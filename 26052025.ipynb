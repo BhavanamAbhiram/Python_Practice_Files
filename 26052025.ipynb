{
 "cells": [
  {
   "cell_type": "markdown",
   "id": "e9e365f6-7f61-4483-a571-25dcb35dcfdc",
   "metadata": {},
   "source": [
    "#  Python Functions Task"
   ]
  },
  {
   "cell_type": "raw",
   "id": "5b60089d-48d7-4ebe-83aa-24b8ad7d1e02",
   "metadata": {},
   "source": [
    "Q1. Maximum of 3 Numbers & Even/Odd Check\n",
    "\n",
    "Task:\n",
    "Write a function to get the maximum of 3 numbers.\n",
    "Write a function to check if a number is even or odd.\n",
    "\n",
    "Function: get_max(a, b, c)\n",
    "Input: get_max(10, 20, 5)\n",
    "\n",
    "Output: 20\n",
    "\n",
    "Function: is_even(n)\n",
    "Input: is_even(10) → Output: even\n",
    "Input: is_even(23) → Output: odd\n"
   ]
  },
  {
   "cell_type": "code",
   "execution_count": null,
   "id": "c6ecd8f5-bd8b-41e2-952b-d383ea660f64",
   "metadata": {},
   "outputs": [],
   "source": [
    "def max_three():\n",
    "    "
   ]
  }
 ],
 "metadata": {
  "kernelspec": {
   "display_name": "Python [conda env:base] *",
   "language": "python",
   "name": "conda-base-py"
  },
  "language_info": {
   "codemirror_mode": {
    "name": "ipython",
    "version": 3
   },
   "file_extension": ".py",
   "mimetype": "text/x-python",
   "name": "python",
   "nbconvert_exporter": "python",
   "pygments_lexer": "ipython3",
   "version": "3.12.7"
  }
 },
 "nbformat": 4,
 "nbformat_minor": 5
}
