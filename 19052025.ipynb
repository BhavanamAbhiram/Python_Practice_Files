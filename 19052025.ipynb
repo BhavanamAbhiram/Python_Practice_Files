{
 "cells": [
  {
   "cell_type": "markdown",
   "id": "0263f866-c028-4812-9be7-8170c67e7359",
   "metadata": {},
   "source": [
    "# For Loop Task"
   ]
  },
  {
   "cell_type": "raw",
   "id": "7df3237c-9968-4b74-aeb3-481958c421b7",
   "metadata": {},
   "source": [
    "1. Sum of N Natural Numbers\n",
    "Problem: Write a program to calculate the sum of the first n natural numbers using a for loop.\n",
    " Input: n = 5\n",
    " Output: 15\n",
    " Explanation: 1 + 2 + 3 + 4 + 5 = 15"
   ]
  },
  {
   "cell_type": "code",
   "execution_count": 1,
   "id": "0c941a72-d93c-4672-b24e-ac52e8e1907e",
   "metadata": {},
   "outputs": [
    {
     "name": "stdin",
     "output_type": "stream",
     "text": [
      "Enter a number to returns sum of N natural numbers: 10\n"
     ]
    },
    {
     "name": "stdout",
     "output_type": "stream",
     "text": [
      "55\n"
     ]
    }
   ],
   "source": [
    "n = int(input(\"Enter a number to returns sum of N natural numbers:\"))\n",
    "\n",
    "sum_n_nums = 0\n",
    "\n",
    "for num in range(1,n+1):\n",
    "    sum_n_nums += num\n",
    "print(sum_n_nums)"
   ]
  },
  {
   "cell_type": "raw",
   "id": "122986b0-d9cb-437e-8334-6a72a66b67e8",
   "metadata": {},
   "source": [
    "2. Sum of Even Numbers up to N\n",
    "Problem: Write a program to find the sum of all even numbers from 1 to n.\n",
    " Input: n = 10\n",
    " Output: 30\n",
    " Explanation: 2 + 4 + 6 + 8 + 10 = 30"
   ]
  },
  {
   "cell_type": "code",
   "execution_count": 3,
   "id": "51639a58-1b6b-4a1a-a476-46fcd85c8a9d",
   "metadata": {},
   "outputs": [
    {
     "name": "stdin",
     "output_type": "stream",
     "text": [
      "Enter a number to returns sum of all even numbers: 17\n"
     ]
    },
    {
     "name": "stdout",
     "output_type": "stream",
     "text": [
      "72\n"
     ]
    }
   ],
   "source": [
    "n = int(input(\"Enter a number to returns sum of all even numbers:\"))\n",
    "\n",
    "even_sum = 0\n",
    "\n",
    "for num in range(1,n+1):\n",
    "    if num % 2 == 0:\n",
    "        even_sum += num\n",
    "\n",
    "print(even_sum)"
   ]
  },
  {
   "cell_type": "raw",
   "id": "f2b63216-b298-453a-a9bd-fac7abbc3c04",
   "metadata": {},
   "source": [
    "3. Print Multiplication Table\n",
    "Problem: Write a program that prints the multiplication table of a number n up to 10.\n",
    " Input: n = 4\n",
    " Output:\n",
    "4 x 1 = 4  \n",
    "4 x 2 = 8  \n",
    "...  \n",
    "4 x 10 = 40"
   ]
  },
  {
   "cell_type": "code",
   "execution_count": 21,
   "id": "13bbcd0b-dfa4-4c65-bae3-80dbf10446ba",
   "metadata": {},
   "outputs": [
    {
     "name": "stdin",
     "output_type": "stream",
     "text": [
      "Enter a number to returns it's table from n upto 10: 9\n"
     ]
    },
    {
     "name": "stdout",
     "output_type": "stream",
     "text": [
      "9 x 1 = 9\n",
      "9 x 2 = 18\n",
      "9 x 3 = 27\n",
      "9 x 4 = 36\n",
      "9 x 5 = 45\n",
      "9 x 6 = 54\n",
      "9 x 7 = 63\n",
      "9 x 8 = 72\n",
      "9 x 9 = 81\n",
      "9 x 10 = 90\n"
     ]
    }
   ],
   "source": [
    "n = int(input(\"Enter a number to returns it's table from n upto 10:\"))\n",
    "\n",
    "for num in range(1,11):\n",
    "    print(f'{n} x {num} = {num * n}')"
   ]
  },
  {
   "cell_type": "raw",
   "id": "54fdcbb6-404b-49a1-8a42-8e0e9318b642",
   "metadata": {},
   "source": [
    "4. Count Vowels in a String\n",
    "Problem: Write a program to count the number of vowels in a given string.\n",
    " Input: \"education\"\n",
    " Output: 5"
   ]
  },
  {
   "cell_type": "code",
   "execution_count": 25,
   "id": "98cae3d7-b677-48bf-b339-8d6de230d00a",
   "metadata": {},
   "outputs": [
    {
     "name": "stdin",
     "output_type": "stream",
     "text": [
      "Enter the sentence to count number of vowels in it: AbhiramReddy\n"
     ]
    },
    {
     "name": "stdout",
     "output_type": "stream",
     "text": [
      "NUmber of vowels in the input is: 4\n"
     ]
    }
   ],
   "source": [
    "input_string = input('Enter the sentence to count number of vowels in it:')\n",
    "vowel_count = 0\n",
    "\n",
    "for each_char in input_string:\n",
    "    if each_char.lower() in 'aeiou':\n",
    "        vowel_count += 1\n",
    "print('NUmber of vowels in the input is:',vowel_count)"
   ]
  },
  {
   "cell_type": "raw",
   "id": "990e7809-7fdb-4390-9792-6d84ed68e037",
   "metadata": {},
   "source": [
    "5. Reverse a String Using For Loop\n",
    "Problem: Write a program to reverse a string using a for loop (without using built-in reversed() or slicing).\n",
    " Input: \"hello\"\n",
    " Output: \"olleh\""
   ]
  },
  {
   "cell_type": "code",
   "execution_count": 29,
   "id": "0c4ca163-8716-4a2b-9cf8-17437642cdc2",
   "metadata": {},
   "outputs": [
    {
     "name": "stdin",
     "output_type": "stream",
     "text": [
      "Enter the sentence to reverse it and print:  abhiram\n"
     ]
    },
    {
     "name": "stdout",
     "output_type": "stream",
     "text": [
      "marihba\n"
     ]
    }
   ],
   "source": [
    "input_string = input('Enter the sentence to reverse it and print: ')\n",
    "new_string = ''\n",
    "\n",
    "for each_char in range(len(input_string)-1,-1,-1):\n",
    "    new_string += input_string[each_char]\n",
    "print(new_string)    "
   ]
  },
  {
   "cell_type": "raw",
   "id": "555e7263-3467-4f05-8aa7-7a6c7882355a",
   "metadata": {},
   "source": [
    "6. Find Factorial of a Number\n",
    "Problem: Write a program to compute the factorial of a number using a for loop.\n",
    " Input: n = 5\n",
    " Output: 120"
   ]
  },
  {
   "cell_type": "code",
   "execution_count": 37,
   "id": "a1a79c8a-7159-400a-ba64-67beca1c5001",
   "metadata": {},
   "outputs": [
    {
     "name": "stdin",
     "output_type": "stream",
     "text": [
      "Enter number to find its factorial: 5\n"
     ]
    },
    {
     "name": "stdout",
     "output_type": "stream",
     "text": [
      "Factorial of 5 is 120\n"
     ]
    }
   ],
   "source": [
    "number = int(input('Enter number to find its factorial:'))\n",
    "factorial_number = 1\n",
    "\n",
    "for num in range(1,number+1):\n",
    "    factorial_number *= num\n",
    "print('Factorial of',number, 'is', factorial_number)"
   ]
  },
  {
   "cell_type": "raw",
   "id": "206d2933-f0b5-4789-b23b-7172d74b9cfb",
   "metadata": {},
   "source": [
    "7. Print All Elements of a List\n",
    "Problem: Write a program that prints each element of a list on a new line using a for loop.\n",
    " Input: [10, 20, 30]\n",
    " Output:\n",
    "10  \n",
    "20  \n",
    "30"
   ]
  },
  {
   "cell_type": "code",
   "execution_count": 39,
   "id": "adf6aeaf-1cbf-4be8-8f15-fe4074fc8a0a",
   "metadata": {},
   "outputs": [
    {
     "name": "stdin",
     "output_type": "stream",
     "text": [
      " 10 20 30 40 50 60\n"
     ]
    },
    {
     "name": "stdout",
     "output_type": "stream",
     "text": [
      "10\n",
      "20\n",
      "30\n",
      "40\n",
      "50\n",
      "60\n"
     ]
    }
   ],
   "source": [
    "list_numbers = input().split()\n",
    "\n",
    "for num in list_numbers:\n",
    "    print(num)"
   ]
  },
  {
   "cell_type": "raw",
   "id": "357877c8-ee43-42ba-ac01-499f48889eb3",
   "metadata": {},
   "source": [
    "8. Count Frequency of a Character in String\n",
    "Problem: Write a program to count how many times a specific character appears in a string.\n",
    " Input:\n",
    "String: \"programming\"  \n",
    "Character: \"g\"\n",
    "\n",
    "Output: 2"
   ]
  },
  {
   "cell_type": "code",
   "execution_count": 43,
   "id": "0aedad74-3aef-4b19-a4eb-657103d0f77f",
   "metadata": {},
   "outputs": [
    {
     "name": "stdin",
     "output_type": "stream",
     "text": [
      "Enter a sentence of your own: BhAvanam Abhiram Reddy\n",
      "Enter the character you want to find it's count:  a\n"
     ]
    },
    {
     "name": "stdout",
     "output_type": "stream",
     "text": [
      "No.of times a appeared in BhAvanam Abhiram Reddy is 5\n"
     ]
    }
   ],
   "source": [
    "string = input('Enter a sentence of your own:')\n",
    "character = input(\"Enter the character you want to find it's count: \")\n",
    "count_of_char = 0\n",
    "\n",
    "for each_char in string:\n",
    "    if each_char.lower() == character:\n",
    "        count_of_char += 1\n",
    "print('No.of times',character,'appeared in',string,'is',count_of_char)"
   ]
  },
  {
   "cell_type": "raw",
   "id": "d263d359-18c0-40d7-a839-2bf4c3f8a1d0",
   "metadata": {},
   "source": [
    "9. Sum of Digits of a Number\n",
    "Problem: Write a program to find the sum of the digits of a given number.\n",
    " Input: 1234\n",
    " Output: 10"
   ]
  },
  {
   "cell_type": "code",
   "execution_count": 63,
   "id": "6bf85f89-fcb6-42fd-a2fa-1f0e0c86b545",
   "metadata": {},
   "outputs": [
    {
     "name": "stdin",
     "output_type": "stream",
     "text": [
      "Enter a number to return the sum of its own digits:  1234\n"
     ]
    },
    {
     "data": {
      "text/plain": [
       "10"
      ]
     },
     "execution_count": 63,
     "metadata": {},
     "output_type": "execute_result"
    }
   ],
   "source": [
    "number = input('Enter a number to return the sum of its own digits: ')\n",
    "sum_of_Digits = 0\n",
    "\n",
    "for num in range(len(number)):\n",
    "    sum_of_Digits += int(number[num])\n",
    "sum_of_Digits"
   ]
  },
  {
   "cell_type": "raw",
   "id": "6615f30d-701b-4ce5-8423-91304bd809f7",
   "metadata": {},
   "source": [
    "10. Check if a Number is Prime\n",
    "Problem: Write a program to check whether a given number is prime using a for loop.\n",
    " Input: 11\n",
    " Output: Prime"
   ]
  },
  {
   "cell_type": "code",
   "execution_count": 11,
   "id": "383fa453-3bb6-473e-aebb-655a220113e8",
   "metadata": {},
   "outputs": [
    {
     "name": "stdin",
     "output_type": "stream",
     "text": [
      "Enter a number to check whether it is prime or not:  14\n"
     ]
    },
    {
     "name": "stdout",
     "output_type": "stream",
     "text": [
      "14 is not a prime\n"
     ]
    }
   ],
   "source": [
    "number = int(input('Enter a number to check whether it is prime or not: '))\n",
    "count = 0\n",
    "\n",
    "for i in range(1,number+1):\n",
    "    if number % i == 0:\n",
    "        count += 1\n",
    "\n",
    "if count == 2:\n",
    "    print(number,' is prime')\n",
    "else:\n",
    "    print(number, 'is not a prime')"
   ]
  },
  {
   "cell_type": "raw",
   "id": "0211b760-fdbf-41bd-8283-6c2d44b2fd97",
   "metadata": {},
   "source": [
    "11. Find Maximum Number in a List\n",
    "Problem: Write a program to find the largest number in a list using a for loop.\n",
    " Input: [4, 9, 1, 17, 3]\n",
    " Output: 17"
   ]
  },
  {
   "cell_type": "code",
   "execution_count": 83,
   "id": "f9cc8e59-757a-4683-856f-90aca23f139a",
   "metadata": {},
   "outputs": [
    {
     "name": "stdout",
     "output_type": "stream",
     "text": [
      "17\n"
     ]
    }
   ],
   "source": [
    "Input = [4, 9, 1, 17, 3]\n",
    "\n",
    "for num in Input:\n",
    "    pass\n",
    "print(max(Input))"
   ]
  },
  {
   "cell_type": "raw",
   "id": "d12d7c9a-5472-4931-a3ba-1ea095a70400",
   "metadata": {},
   "source": [
    "12. Print Characters with Indices\n",
    "Problem: Print each character of a string with its corresponding index using a for loop.\n",
    " Input: \"code\"\n",
    " Output:\n",
    "c 0  \n",
    "o 1\n",
    "d 2  \n",
    "e 3"
   ]
  },
  {
   "cell_type": "code",
   "execution_count": 7,
   "id": "3a6dc5fa-871c-4ec7-beb5-cca321fe5820",
   "metadata": {},
   "outputs": [
    {
     "name": "stdin",
     "output_type": "stream",
     "text": [
      "Enter a word to return the : abhi\n"
     ]
    },
    {
     "name": "stdout",
     "output_type": "stream",
     "text": [
      "Index of a is 0\n",
      "Index of b is 1\n",
      "Index of h is 2\n",
      "Index of i is 3\n"
     ]
    }
   ],
   "source": [
    "string = input('Enter a word to return the :')\n",
    "\n",
    "for each_char in range(len(string)):\n",
    "    print(f'Index of {string[each_char]} is {each_char}')"
   ]
  },
  {
   "cell_type": "raw",
   "id": "4009b867-225d-4918-9103-00f8a310ef57",
   "metadata": {},
   "source": [
    "13. Square Each Number in a List\n",
    "Problem: Write a program to create a new list with the square of each number in the original list.\n",
    " Input: [1, 2, 3, 4]\n",
    " Output: [1, 4, 9, 16]"
   ]
  },
  {
   "cell_type": "code",
   "execution_count": 11,
   "id": "ee3be2af-29a0-45a0-83aa-a4229d3f97f2",
   "metadata": {},
   "outputs": [
    {
     "data": {
      "text/plain": [
       "[1, 4, 9, 16]"
      ]
     },
     "execution_count": 11,
     "metadata": {},
     "output_type": "execute_result"
    }
   ],
   "source": [
    "a = [1, 2, 3, 4]\n",
    "b = []\n",
    "\n",
    "for num in a:\n",
    "    b.append(num**2)\n",
    "b"
   ]
  },
  {
   "cell_type": "raw",
   "id": "0470810a-2c1f-43eb-ae6f-236b5633b948",
   "metadata": {},
   "source": [
    "14. Find Common Elements in Two Lists\n",
    "Problem: Write a program to find all common elements between two lists using a for loop.\n",
    " Input:\n",
    "List1: [1, 2, 3, 4]  \n",
    "List2: [3, 4, 5, 6]\n",
    "\n",
    "Output: [3, 4]"
   ]
  },
  {
   "cell_type": "code",
   "execution_count": 13,
   "id": "83751ef9-a62d-49e7-8056-12a48fc58fcd",
   "metadata": {},
   "outputs": [
    {
     "name": "stdout",
     "output_type": "stream",
     "text": [
      "[3, 4]\n"
     ]
    }
   ],
   "source": [
    "list1 = [1, 2, 3, 4]\n",
    "list2 = [3, 4, 5, 6]\n",
    "list3 = []\n",
    "\n",
    "for num in list1:\n",
    "    if num in list2:\n",
    "        list3.append(num)\n",
    "print(list3)"
   ]
  },
  {
   "cell_type": "raw",
   "id": "c91b12fb-716f-4691-8da0-64249d4ec179",
   "metadata": {},
   "source": [
    "15. Convert All List Items to Strings\n",
    "Problem: Convert all elements of a list of integers to strings using a for loop.\n",
    " Input: [1, 2, 3]\n",
    " Output: ['1', '2', '3']"
   ]
  },
  {
   "cell_type": "code",
   "execution_count": 15,
   "id": "b6a5e7d6-edec-48d7-bc3d-2a77cb163314",
   "metadata": {},
   "outputs": [
    {
     "data": {
      "text/plain": [
       "['1', '2', '3']"
      ]
     },
     "execution_count": 15,
     "metadata": {},
     "output_type": "execute_result"
    }
   ],
   "source": [
    "list1 = [1, 2, 3]\n",
    "list2 = []\n",
    "\n",
    "for num in list1:\n",
    "    list2.append(str(num))\n",
    "\n",
    "list2"
   ]
  },
  {
   "cell_type": "raw",
   "id": "e46710bd-ac79-4ab3-8fd0-2911f104309d",
   "metadata": {},
   "source": [
    "16. Print Only Positive Numbers\n",
    "Problem: From a list of numbers, print only the positive ones using a for loop.\n",
    " Input: [-5, 2, 0, -1, 3]\n",
    " Output: [2, 3]"
   ]
  },
  {
   "cell_type": "code",
   "execution_count": 17,
   "id": "3bd624fd-6dd6-4e13-bc0d-0c81df4a4ef8",
   "metadata": {},
   "outputs": [
    {
     "data": {
      "text/plain": [
       "[2, 3]"
      ]
     },
     "execution_count": 17,
     "metadata": {},
     "output_type": "execute_result"
    }
   ],
   "source": [
    "list1 = [-5, 2, 0, -1, 3]\n",
    "list2 = []\n",
    "\n",
    "for num in list1:\n",
    "    if num > 0:\n",
    "        list2.append(num)\n",
    "\n",
    "list2"
   ]
  },
  {
   "cell_type": "raw",
   "id": "f6682631-31e8-42fb-8a6e-2ab2ab30eefc",
   "metadata": {},
   "source": [
    "17. Remove Spaces from a String\n",
    "Problem: Write a program that removes all spaces from a string using a for loop.\n",
    " Input: \"a b c\"\n",
    " Output: \"abc\""
   ]
  },
  {
   "cell_type": "code",
   "execution_count": 19,
   "id": "8a95f6de-5143-41b1-9ef3-021159fe4c4f",
   "metadata": {},
   "outputs": [
    {
     "name": "stdin",
     "output_type": "stream",
     "text": [
      " a b c\n"
     ]
    },
    {
     "data": {
      "text/plain": [
       "'abc'"
      ]
     },
     "execution_count": 19,
     "metadata": {},
     "output_type": "execute_result"
    }
   ],
   "source": [
    "string = input()\n",
    "string1 = ''\n",
    "\n",
    "for each_char in string:\n",
    "    if each_char != ' ':\n",
    "        string1 += each_char\n",
    "string1"
   ]
  },
  {
   "cell_type": "raw",
   "id": "6c08bed9-f765-41d9-88cd-7cbd4a0302e6",
   "metadata": {},
   "source": [
    "18. Count Words in a Sentence\n",
    "Problem: Write a program to count the number of words in a sentence using a for loop.\n",
    " Input: \"Python is awesome\"\n",
    " Output: 3"
   ]
  },
  {
   "cell_type": "code",
   "execution_count": 21,
   "id": "e1451071-9de7-4021-83d4-4688b48b4d33",
   "metadata": {},
   "outputs": [
    {
     "name": "stdin",
     "output_type": "stream",
     "text": [
      " a bhi ram\n"
     ]
    },
    {
     "data": {
      "text/plain": [
       "3"
      ]
     },
     "execution_count": 21,
     "metadata": {},
     "output_type": "execute_result"
    }
   ],
   "source": [
    "string = input().split()\n",
    "count = 0\n",
    "\n",
    "for each in string:\n",
    "    count += 1\n",
    "count"
   ]
  },
  {
   "cell_type": "raw",
   "id": "c56f42bd-b22d-44ed-849d-6c1773b9afd1",
   "metadata": {},
   "source": [
    "19. Sum of Squares from 1 to N\n",
    "Problem: Calculate the sum of the squares of numbers from 1 to n using a for loop.\n",
    " Input: n = 3\n",
    " Output: 14\n",
    " Explanation: 1² + 2² + 3² = 14"
   ]
  },
  {
   "cell_type": "code",
   "execution_count": 25,
   "id": "21f6fe56-abb1-4bd2-b604-678654152c21",
   "metadata": {},
   "outputs": [
    {
     "name": "stdin",
     "output_type": "stream",
     "text": [
      " 3\n"
     ]
    },
    {
     "data": {
      "text/plain": [
       "14"
      ]
     },
     "execution_count": 25,
     "metadata": {},
     "output_type": "execute_result"
    }
   ],
   "source": [
    "n = int(input())\n",
    "Sum = 0\n",
    "\n",
    "for i in range(1,n+1):\n",
    "    Sum += (i**2)\n",
    "\n",
    "Sum"
   ]
  },
  {
   "cell_type": "raw",
   "id": "7d05270b-9f73-4a9c-bd57-bee7ab61cffb",
   "metadata": {},
   "source": [
    "20. Print Numbers Divisible by 3 Between 1 and N\n",
    "Problem: Write a program to print all numbers between 1 and n that are divisible by 3.\n",
    " Input: n = 10\n",
    " Output: [3, 6, 9]"
   ]
  },
  {
   "cell_type": "code",
   "execution_count": 27,
   "id": "4073930f-007a-4ac0-9365-a1a7515f7b73",
   "metadata": {},
   "outputs": [
    {
     "name": "stdin",
     "output_type": "stream",
     "text": [
      " 10\n"
     ]
    },
    {
     "data": {
      "text/plain": [
       "[3, 6, 9]"
      ]
     },
     "execution_count": 27,
     "metadata": {},
     "output_type": "execute_result"
    }
   ],
   "source": [
    "input_num = int(input())\n",
    "list1 = []\n",
    "\n",
    "for num in range(1,input_num+1):\n",
    "    if num % 3 == 0:\n",
    "        list1.append(num)\n",
    "\n",
    "list1"
   ]
  }
 ],
 "metadata": {
  "kernelspec": {
   "display_name": "Python [conda env:base] *",
   "language": "python",
   "name": "conda-base-py"
  },
  "language_info": {
   "codemirror_mode": {
    "name": "ipython",
    "version": 3
   },
   "file_extension": ".py",
   "mimetype": "text/x-python",
   "name": "python",
   "nbconvert_exporter": "python",
   "pygments_lexer": "ipython3",
   "version": "3.12.7"
  }
 },
 "nbformat": 4,
 "nbformat_minor": 5
}
