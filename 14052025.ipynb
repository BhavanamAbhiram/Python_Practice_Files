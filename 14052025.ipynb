{
 "cells": [
  {
   "cell_type": "markdown",
   "id": "29887114-22f4-465b-b085-405f00757f29",
   "metadata": {},
   "source": [
    "                                                            Daily Task Questions\n"
   ]
  },
  {
   "cell_type": "markdown",
   "id": "dda93d94-7435-4403-9cae-55ed35f65626",
   "metadata": {},
   "source": [
    "## Task 1 - Dictionaries:\n"
   ]
  },
  {
   "cell_type": "markdown",
   "id": "9ec4d996-56a0-4ca8-b998-14b2cb439ab4",
   "metadata": {},
   "source": [
    "#### Q1. Define Dictionary and its properties."
   ]
  },
  {
   "cell_type": "raw",
   "id": "1de8e882-7ced-4f72-986e-f9513ca36812",
   "metadata": {},
   "source": [
    "- Dictionary is an advanced data type in python, accepts various data types to store in it.\n",
    "- Dictionaries stored data as a pair of key followed by a value and separated by ':' in between them and each key value pair is separated by ',' between them.\n",
    "- Dictionary are semi unique in nature means they cannot have duplicate keys stored in them but they can have duplicate values for multiple keys.\n",
    "- Dictionaries comes under mapping type of data type.\n",
    "- Dictionaries are mutable means we can remove/add an element using the 'key'."
   ]
  },
  {
   "cell_type": "markdown",
   "id": "2247169f-a1eb-4c44-8efa-7267ec297c53",
   "metadata": {},
   "source": [
    "#### Q2.  Create a Python program that defines a dictionary to store information about your favorite book. \n",
    "#### Include the title, author, publication year, and genre as key-value pairs. Print out the dictionary.and do at least 5 dictionary methods on it."
   ]
  },
  {
   "cell_type": "code",
   "execution_count": 13,
   "id": "60f407df-b793-484e-8c29-ed8f5986baa7",
   "metadata": {},
   "outputs": [
    {
     "name": "stdout",
     "output_type": "stream",
     "text": [
      "{'title': 'Journey of Souls', 'author': ' Micheal Newton', 'publication year': 1994}\n",
      "{'title': 'Journey of Souls', 'author': ' Micheal Newton', 'publication year': 1994}\n",
      " Micheal Newton\n",
      "dict_items([('title', 'Journey of Souls'), ('author', ' Micheal Newton'), ('publication year', 1994)])\n",
      "dict_keys(['title', 'author', 'publication year'])\n",
      "1994\n",
      "('author', ' Micheal Newton')\n",
      "{}\n"
     ]
    }
   ],
   "source": [
    "my_fav_book_info = { 'title' : 'Journey of Souls', 'author' : ' Micheal Newton', 'publication year' : 1994}\n",
    "print(my_fav_book_info)\n",
    "\n",
    "## method implementation on the above dictionary\n",
    "\n",
    "new_dict = my_fav_book_info.copy()\n",
    "print(new_dict)\n",
    "print(my_fav_book_info.get('author'))\t\n",
    "x = my_fav_book_info.items()\n",
    "print(x)\n",
    "y = my_fav_book_info.keys()\n",
    "print(y)\n",
    "print(my_fav_book_info.pop('publication year'))\n",
    "print(my_fav_book_info.popitem())\n",
    "my_fav_book_info.clear()\n",
    "print(my_fav_book_info)"
   ]
  },
  {
   "cell_type": "raw",
   "id": "1b85fc51-9675-4953-ac23-6ce2e18b650e",
   "metadata": {},
   "source": [
    "Q3. Write a Python program that simulates a simple dictionary for translating English words to Spanish. Define a dictionary containing a few English\n",
    "words as keys and their corresponding Spanish translations as values. Allow users to enter an English word, and then display its Spanish translation if it exists in the dictionary.(use google for English to Spanish translator)"
   ]
  },
  {
   "cell_type": "code",
   "execution_count": 22,
   "id": "9c83a084-7771-4b28-b9ed-6ad5ac324320",
   "metadata": {},
   "outputs": [
    {
     "name": "stdout",
     "output_type": "stream",
     "text": [
      "¡Eh!\n",
      "todos\n",
      "cómo\n",
      "están\n",
      "ustedes \n",
      "todos\n"
     ]
    }
   ],
   "source": [
    "english_spanish = {'hey' : '¡Eh!', 'everyone' : 'todos', 'how' : 'cómo', 'are' : 'están', 'you' : 'ustedes ', 'all' : 'todos'}\n",
    "\n",
    "print(english_spanish['hey'])\n",
    "print(english_spanish['everyone'])\n",
    "print(english_spanish['how'])\n",
    "print(english_spanish['are'])\n",
    "print(english_spanish['you'])\n",
    "print(english_spanish['all'])"
   ]
  },
  {
   "cell_type": "markdown",
   "id": "a7fd1194-ca98-4ccc-ba6c-035bbee5741e",
   "metadata": {},
   "source": [
    "#### Create a Python program that stores the grades of five students in a dictionary. Allow users to input the names of the students and their\n",
    "#### respective grades. Calculate and display the average grade of the students."
   ]
  },
  {
   "cell_type": "code",
   "execution_count": 13,
   "id": "b421803d-7678-4c39-a8d1-b6e605aa7f62",
   "metadata": {},
   "outputs": [
    {
     "name": "stdin",
     "output_type": "stream",
     "text": [
      "Enter your name: a90\n",
      "Enter your grades: 90\n",
      "Enter your name: b\n",
      "Enter your grades: 91\n",
      "Enter your name: c\n",
      "Enter your grades: 92\n",
      "Enter your name: d\n",
      "Enter your grades: 93\n",
      "Enter your name: e\n",
      "Enter your grades: 94\n"
     ]
    },
    {
     "name": "stdout",
     "output_type": "stream",
     "text": [
      "{'a90': 90.0, 'b': 91.0, 'c': 92.0, 'd': 93.0, 'e': 94.0}\n",
      "93.0\n"
     ]
    }
   ],
   "source": [
    "dictionary = dict()\n",
    "average = ((grade_1) + (grade_2) + (grade_3) + (grade_4) + (grade_5)) / 5\n",
    "\n",
    "name_1 = input('Enter your name:')\n",
    "grade_1 = float(input('Enter your grades:'))\n",
    "\n",
    "name_2 = input('Enter your name:')\n",
    "grade_2 = float(input('Enter your grades:'))\n",
    "\n",
    "name_3 = input('Enter your name:')\n",
    "grade_3 = float(input('Enter your grades:'))\n",
    "\n",
    "name_4 = input('Enter your name:')\n",
    "grade_4 = float(input('Enter your grades:'))\n",
    "\n",
    "name_5 = input('Enter your name:')\n",
    "grade_5 = float(input('Enter your grades:'))\n",
    "\n",
    "names_grades = {name_1 : grade_1, name_2 : grade_2, name_3 : grade_3, name_4 : grade_4, name_5 : grade_5}\n",
    "\n",
    "print(names_grades)\n",
    "print(average)"
   ]
  },
  {
   "cell_type": "markdown",
   "id": "d6ecd88e-7f7e-4b4d-a4d4-ca2e73fbfab4",
   "metadata": {},
   "source": [
    "#### Build a basic contact list using a dictionary. Initially, the dictionary can be empty. Allow users to add new contacts with names and phone numbers.Users should also be able to search for contacts by name and display their phone numbers(use in operator)."
   ]
  },
  {
   "cell_type": "code",
   "execution_count": 30,
   "id": "7ed07572-2415-4bb6-970c-998888b16c19",
   "metadata": {},
   "outputs": [
    {
     "name": "stdout",
     "output_type": "stream",
     "text": [
      "{'person1': 9000000000, 'person2': 8000000000, 'person3': 7000000000, 'person4': 6000000000, 'person5': 5000000000, 'person6': 4000000000, 'person7': 3000000000, 'person8': 3000000000, 'person9': 2000000000, 'person10': 1000000000}\n",
      "False\n"
     ]
    }
   ],
   "source": [
    "contact_list = {}\n",
    "\n",
    "contact_list['person1'] = 9000000000\n",
    "contact_list['person2'] = 8000000000\n",
    "contact_list['person3'] = 7000000000\n",
    "contact_list['person4'] = 6000000000\n",
    "contact_list['person5'] = 5000000000\n",
    "contact_list['person6'] = 4000000000\n",
    "contact_list['person7'] = 3000000000\n",
    "contact_list['person8'] = 3000000000\n",
    "contact_list['person9'] = 2000000000\n",
    "contact_list['person10'] = 1000000000\n",
    "\n",
    "print(contact_list)\n",
    "print(9000000000 in contact_list)"
   ]
  },
  {
   "cell_type": "code",
   "execution_count": 50,
   "id": "7382130e-452d-4c93-8960-5b867c210177",
   "metadata": {},
   "outputs": [
    {
     "name": "stdout",
     "output_type": "stream",
     "text": [
      "Alice\n",
      "A\n",
      "20\n"
     ]
    }
   ],
   "source": [
    "### Q1. Access specific values from the dictionary.\n",
    "### Input:\n",
    "\n",
    "student = {\"name\": \"Alice\", \"age\": 20, \"grade\": \"A\"}\n",
    "\n",
    "print(student['name'])\n",
    "print(student['grade'])\n",
    "print(student['age'])"
   ]
  },
  {
   "cell_type": "code",
   "execution_count": 54,
   "id": "eefeb615-d65e-499e-9acf-4d3f7427dcc5",
   "metadata": {},
   "outputs": [
    {
     "name": "stdout",
     "output_type": "stream",
     "text": [
      "{'name': 'Alice', 'age': 21, 'course': 'Math'}\n"
     ]
    }
   ],
   "source": [
    "#### Q2. Add a new key \"course\": \"Math\" and change the \"age\" to 21.\n",
    "#### Input:\n",
    "\n",
    "student = {\"name\": \"Alice\", \"age\": 20}\n",
    "\n",
    "student['course'] = 'Math'\n",
    "student.update({'age' : 21})\n",
    "print(student)"
   ]
  },
  {
   "cell_type": "code",
   "execution_count": 62,
   "id": "d62b5081-f156-4f8c-b6db-c78be6d675db",
   "metadata": {},
   "outputs": [
    {
     "name": "stdout",
     "output_type": "stream",
     "text": [
      "dict_keys(['Math', 'Science', 'English'])\n",
      "dict_values([85, 90, 78])\n",
      "dict_items([('Math', 85), ('Science', 90), ('English', 78)])\n"
     ]
    }
   ],
   "source": [
    "#### Q3. Print all keys, values, and key-value pairs.\n",
    "#### Input:\n",
    "\n",
    "marks = {\"Math\": 85, \"Science\": 90, \"English\": 78}\n",
    "\n",
    "print(marks.keys())\n",
    "print(marks.values())\n",
    "print(marks.items())"
   ]
  },
  {
   "cell_type": "code",
   "execution_count": 72,
   "id": "c1192ed5-8f2f-4fe2-98d5-6fc08b457a75",
   "metadata": {},
   "outputs": [
    {
     "data": {
      "text/plain": [
       "{'x': 1, 'y': 3, 'z': 4}"
      ]
     },
     "execution_count": 72,
     "metadata": {},
     "output_type": "execute_result"
    }
   ],
   "source": [
    "#### Q4 Merge both dictionaries using update().\n",
    "#### Input:\n",
    "\n",
    "dict1 = {\"x\": 1, \"y\": 2}  \n",
    "dict2 = {\"y\": 3, \"z\": 4}\n",
    "\n",
    "dict1.update({\"y\": 3, \"z\": 4})\n",
    "dict1"
   ]
  },
  {
   "cell_type": "code",
   "execution_count": 74,
   "id": "22c8f7da-a60f-4ef3-b157-0cbc8c04fdeb",
   "metadata": {},
   "outputs": [
    {
     "name": "stdout",
     "output_type": "stream",
     "text": [
      "True\n"
     ]
    }
   ],
   "source": [
    "#### Q6. Check if \"Math\" exists in the dictionary.\n",
    "#### Input:\n",
    "\n",
    "subjects = {\"Math\": 90, \"Science\": 85}\n",
    "\n",
    "print('Math' in subjects)"
   ]
  },
  {
   "cell_type": "code",
   "execution_count": 78,
   "id": "aae413e2-40f8-4c83-934b-c2f9c252b07e",
   "metadata": {},
   "outputs": [
    {
     "data": {
      "text/plain": [
       "{'name': 'John', 'city': 'Mumbai'}"
      ]
     },
     "execution_count": 78,
     "metadata": {},
     "output_type": "execute_result"
    }
   ],
   "source": [
    "#### Q7. Remove the key \"age\" from the dictionary.\n",
    "#### Input:\n",
    "\n",
    "person = {\"name\": \"John\", \"age\": 25, \"city\": \"Mumbai\"}\n",
    "\n",
    "person.pop('age')\n",
    "person"
   ]
  },
  {
   "cell_type": "code",
   "execution_count": null,
   "id": "a006db2f-e53e-48e4-8f74-70bc1a0a89f9",
   "metadata": {},
   "outputs": [],
   "source": []
  }
 ],
 "metadata": {
  "kernelspec": {
   "display_name": "Python [conda env:base] *",
   "language": "python",
   "name": "conda-base-py"
  },
  "language_info": {
   "codemirror_mode": {
    "name": "ipython",
    "version": 3
   },
   "file_extension": ".py",
   "mimetype": "text/x-python",
   "name": "python",
   "nbconvert_exporter": "python",
   "pygments_lexer": "ipython3",
   "version": "3.12.7"
  }
 },
 "nbformat": 4,
 "nbformat_minor": 5
}
