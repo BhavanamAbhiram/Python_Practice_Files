{
 "cells": [
  {
   "cell_type": "markdown",
   "id": "5f0c1524-7a7d-420d-a9f3-4f59c95a61f7",
   "metadata": {},
   "source": [
    "# Daily Task1. Variables & Operators\n"
   ]
  },
  {
   "cell_type": "markdown",
   "id": "3c3b6d9c-3e7d-465a-b7a9-1dfd975194d9",
   "metadata": {
    "jp-MarkdownHeadingCollapsed": true,
    "jupyter": {
     "source_hidden": true
    }
   },
   "source": [
    "## 1. Assign and Print a Variable\n",
    "### Create a variable x with the value 10 and print it.\n"
   ]
  },
  {
   "cell_type": "code",
   "execution_count": 4,
   "id": "8aa135f4-9c47-498f-8b32-56b439e913d1",
   "metadata": {
    "jupyter": {
     "source_hidden": true
    }
   },
   "outputs": [
    {
     "name": "stdout",
     "output_type": "stream",
     "text": [
      "10\n"
     ]
    }
   ],
   "source": [
    "x = 10 # creating a variable x and assigning value 10 to it using ths assignment operator.\n",
    "print(x) # Printing the value of x by using the print function."
   ]
  },
  {
   "cell_type": "markdown",
   "id": "dd90a4be-7c94-4f56-b5cc-54d3263a58a8",
   "metadata": {
    "jp-MarkdownHeadingCollapsed": true,
    "jupyter": {
     "source_hidden": true
    }
   },
   "source": [
    "## 2. Valid Variable Names\n",
    "### Which of the following are valid variable names?\n",
    "### _var, 1stValue, my-variable, my_variable, name123, sum\n",
    "### Hint: Variables cannot start with a number and should follow Python naming rules."
   ]
  },
  {
   "cell_type": "code",
   "execution_count": 30,
   "id": "65e7dd09-4fce-495f-b4a5-3fc6cd94226f",
   "metadata": {},
   "outputs": [
    {
     "name": "stdout",
     "output_type": "stream",
     "text": [
      "10\n",
      "94\n",
      "432\n"
     ]
    }
   ],
   "source": [
    "_var = 10  # This line of code works well even though the variable name starts with '_' it is a valid name because it is according to python's naming convention.\n",
    "1stValue = 43 # This variable declaration in wrong because python doesn't support variable starting with numbers.\n",
    "my-variable = 12 # This variable declaration also throws an error as it has '-' a special character in it.\n",
    "my_variable = 94 # This supports all the naming convention rules of python.\n",
    "name123 = 54 # This is also a valid variable name because this too follows all the standard python naming convention rules.\n",
    "sum = 432 # This throws an error because the variable name we used  'sum'  is a keyword in python and we cannot use keywords as variable names in Python.\n",
    "\n",
    "print(_var)\n",
    "print(1stValue) \n",
    "print(my-variable)  \n",
    "print(my_variable)\n",
    "print(sum)"
   ]
  },
  {
   "cell_type": "markdown",
   "id": "c96502b0-9ec9-49bd-bf27-ee261a56fe70",
   "metadata": {
    "jp-MarkdownHeadingCollapsed": true,
    "jupyter": {
     "source_hidden": true
    }
   },
   "source": [
    "## 3: Identify Data Type\n",
    "### Find the data type of x = 5.5 using a built-in function."
   ]
  },
  {
   "cell_type": "code",
   "execution_count": 35,
   "id": "ff662ebd-5fb5-4ff7-9352-6b903e07a568",
   "metadata": {},
   "outputs": [],
   "source": [
    "x = 5.5\n",
    "print(type(x)) # Using the built in function 'type()' to check the type of the variable 'x' we declared with float value 5.5"
   ]
  },
  {
   "cell_type": "markdown",
   "id": "9c93827b-433e-4560-8ba9-e0ec89324bf7",
   "metadata": {
    "jp-MarkdownHeadingCollapsed": true,
    "jupyter": {
     "source_hidden": true
    }
   },
   "source": [
    "## 4. Basic Arithmetic Operations\n",
    "### Description: Given a = 10 and b = 3, perform:\n",
    "### Addition\n",
    "### Subtraction\n",
    "### Multiplication\n",
    "### Division\n",
    "### Example Output:\n",
    "### 10 + 3 = 13\n",
    "### 10 - 3 = 7\n",
    "### 10 * 3 = 30\n",
    "### 10 / 3 = 3.33\n",
    "\n",
    "\n"
   ]
  },
  {
   "cell_type": "code",
   "execution_count": 45,
   "id": "d2884540-b874-4353-9832-a51e6741f0b0",
   "metadata": {},
   "outputs": [],
   "source": [
    "a = 10\n",
    "b = 3\n",
    "\n",
    "# Performing arithematic operations on the variables a and b.\n",
    "\n",
    "Addition = (a + b) # Created a variable Addition and performing '+' on a and b\n",
    "Subtraction = (a - b) # Created a variable Subtraction and performing '-' on a and b\n",
    "Multiplication = (a * b) # Created a variable Multiplication and performing '*' on a and b\n",
    "Division = (a / b) # Created a variable Division and performing '/' on a and b\n",
    "print(Addition)\n",
    "print(Subtraction)\n",
    "print(Multiplication)\n",
    "print(Division)"
   ]
  },
  {
   "cell_type": "markdown",
   "id": "4e46fbb9-38c9-4f51-a4d4-3c40dd608fd3",
   "metadata": {
    "jp-MarkdownHeadingCollapsed": true,
    "jupyter": {
     "source_hidden": true
    }
   },
   "source": [
    "## 5. Difference Between = and ==\n",
    "### Description: What will be the output of:\n",
    "### x = 5\n",
    "### y = 5\n",
    "### print(x == y)\n",
    "### Hint: = is for assignment, == is for comparison.\n",
    "\n"
   ]
  },
  {
   "cell_type": "code",
   "execution_count": 47,
   "id": "8d794c4d-1cf1-4db4-a496-490deac5f1b8",
   "metadata": {},
   "outputs": [
    {
     "name": "stdout",
     "output_type": "stream",
     "text": [
      "True\n"
     ]
    }
   ],
   "source": [
    "x = 5\n",
    "y = 5\n",
    "print(x == y) \n",
    "# we are checking whether the value in x and the value in y are both same are equal or not by using a '==' comparision/relational operator which in\n",
    "# return gives us 'True' if equal and 'False' if not equal as Output."
   ]
  },
  {
   "cell_type": "markdown",
   "id": "1e584cb2-dfa0-4cfd-adfc-5770dae64c03",
   "metadata": {
    "jp-MarkdownHeadingCollapsed": true,
    "jupyter": {
     "source_hidden": true
    }
   },
   "source": [
    "## 6. Floor Division (//)\n",
    "### Description: Find the quotient when 17 is divided by 4 using floor division.\n",
    "### Example:\n",
    "### print(17 // 4)\n",
    "### Output:\n",
    "### 4\n"
   ]
  },
  {
   "cell_type": "code",
   "execution_count": null,
   "id": "1a30405d-fb9c-4f81-9b3e-c2e0dcc114d8",
   "metadata": {},
   "outputs": [],
   "source": [
    "first_number  = 67\n",
    "second_number = 13\n",
    "remainder = (first_number // second_number) # We are using '//' arithematic operator through which we can find quotient upon dividing two numbers."
   ]
  },
  {
   "cell_type": "markdown",
   "id": "7bed8921-b7b1-4df4-8558-25707840102d",
   "metadata": {
    "jp-MarkdownHeadingCollapsed": true,
    "jupyter": {
     "source_hidden": true
    }
   },
   "source": [
    "## 7. Logical Operator - AND\n",
    "### Description: Predict the output of:\n",
    "### print(5 > 3 and 8 < 6)\n",
    "### Hint: and returns True only if both conditions are true."
   ]
  },
  {
   "cell_type": "code",
   "execution_count": 55,
   "id": "7b3dde8b-e95f-423d-ac09-6476005e3f9a",
   "metadata": {},
   "outputs": [
    {
     "name": "stdout",
     "output_type": "stream",
     "text": [
      "False\n"
     ]
    },
    {
     "data": {
      "text/plain": [
       "\"\\nWe will dry run the code first, here we are basically using an logical and operator between two comparision operated results. Let's break it down into\\n3 steps\\ni) 5 > 3\\nHowever 5 is greater 3 so it gives result as True\\n\\nii) 8 < 6\\nThis gives result as False because 8 is greater than 6 not lesser than.\\n\\niii)True and False \\nThis operation gives result as \\n\""
      ]
     },
     "execution_count": 55,
     "metadata": {},
     "output_type": "execute_result"
    }
   ],
   "source": [
    " print( 5 > 3 and 8 < 6 )\n",
    "'''\n",
    "We will dry run the code first, here we are basically using an logical and operator between two comparision operated results. Let's break it down into\n",
    "3 steps\n",
    "i) 5 > 3\n",
    "However 5 is greater 3 so it gives result as True\n",
    "\n",
    "ii) 8 < 6\n",
    "This gives result as False because 8 is greater than 6 not lesser than.\n",
    "\n",
    "iii)True and False \n",
    "This operation gives result as 'False' because in and truth table the O/P would be true only if both the inputs are True else the O/P is always False.\n",
    "'''"
   ]
  }
 ],
 "metadata": {
  "kernelspec": {
   "display_name": "Python [conda env:base] *",
   "language": "python",
   "name": "conda-base-py"
  },
  "language_info": {
   "codemirror_mode": {
    "name": "ipython",
    "version": 3
   },
   "file_extension": ".py",
   "mimetype": "text/x-python",
   "name": "python",
   "nbconvert_exporter": "python",
   "pygments_lexer": "ipython3",
   "version": "3.12.7"
  }
 },
 "nbformat": 4,
 "nbformat_minor": 5
}
