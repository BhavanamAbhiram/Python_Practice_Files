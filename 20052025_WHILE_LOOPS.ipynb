{
 "cells": [
  {
   "cell_type": "markdown",
   "id": "cbff29cb-a040-43c1-bd30-18e218d75b24",
   "metadata": {},
   "source": [
    "# Python Tasks Using while Loop"
   ]
  },
  {
   "cell_type": "raw",
   "id": "58ea26a8-8c82-4c75-b10d-90fabbd8d19a",
   "metadata": {},
   "source": [
    "Task 1: Count the Digits of a Number\n",
    "Problem: Count the total number of digits in a given number.\n",
    "Input:\n",
    " 75869\n",
    "Output:\n",
    " 5"
   ]
  },
  {
   "cell_type": "code",
   "execution_count": 1,
   "id": "fccb8f7a-3eae-450a-a6d9-1d24b3014528",
   "metadata": {},
   "outputs": [
    {
     "name": "stdin",
     "output_type": "stream",
     "text": [
      " 12345\n"
     ]
    },
    {
     "name": "stdout",
     "output_type": "stream",
     "text": [
      "No of numbers in above input is 5\n"
     ]
    }
   ],
   "source": [
    "input_num = int(input())\n",
    "count = 0\n",
    "\n",
    "# while input_num > 0:\n",
    "#     input_num //= 10\n",
    "#     count += 1\n",
    "\n",
    "while input_num > 0:\n",
    "    k = input_num % 10\n",
    "    count += 1\n",
    "    input_num //= 10\n",
    "\n",
    "print('No of numbers in above input is',count)"
   ]
  },
  {
   "cell_type": "raw",
   "id": "a12b4054-8b72-4d57-9f9a-a7d499fb9e75",
   "metadata": {},
   "source": [
    "Task 2: Sum of Digits\n",
    "Problem: Calculate the sum of digits of a given number.\n",
    "Input:\n",
    " 431\n",
    "Output:\n",
    " 8"
   ]
  },
  {
   "cell_type": "code",
   "execution_count": 5,
   "id": "f3656c00-d6fc-4e41-bbbf-7e2ce1e0e705",
   "metadata": {},
   "outputs": [
    {
     "name": "stdin",
     "output_type": "stream",
     "text": [
      " 9876\n"
     ]
    },
    {
     "name": "stdout",
     "output_type": "stream",
     "text": [
      "30\n"
     ]
    }
   ],
   "source": [
    "n = int(input())\n",
    "Sum = 0\n",
    "\n",
    "\n",
    "while n != 0:\n",
    "    Sum = Sum + n%10\n",
    "    n = n //  10\n",
    "print(Sum)"
   ]
  },
  {
   "cell_type": "raw",
   "id": "68ca4330-c36b-4823-87ae-ee827c6d1314",
   "metadata": {},
   "source": [
    "Task 3: Reverse a Number\n",
    "Problem: Reverse the digits of a number.\n",
    "Input:\n",
    " 1234\n",
    "Output:\n",
    " 4321"
   ]
  },
  {
   "cell_type": "code",
   "execution_count": 7,
   "id": "dcddd78f-cc88-4860-9a6d-784288b7518b",
   "metadata": {},
   "outputs": [
    {
     "name": "stdin",
     "output_type": "stream",
     "text": [
      " 9876\n"
     ]
    },
    {
     "name": "stdout",
     "output_type": "stream",
     "text": [
      "6789\n"
     ]
    }
   ],
   "source": [
    "correct = int(input())\n",
    "reverse = ''\n",
    "\n",
    "while correct != 0:\n",
    "    reverse = reverse + str(correct % 10)\n",
    "    correct = correct // 10\n",
    "print(int(reverse))"
   ]
  },
  {
   "cell_type": "raw",
   "id": "c2646ec8-ba67-4c63-89f2-262499e8f906",
   "metadata": {},
   "source": [
    "Task 4: Print Numbers Until Zero is Entered\n",
    "Problem: Keep reading integers and print each one until 0 is entered.\n",
    "Input:\n",
    " 4 7 -2 0\n",
    "Output:\n",
    "4  \n",
    "7  \n",
    "-2"
   ]
  },
  {
   "cell_type": "code",
   "execution_count": 11,
   "id": "c10632d7-4227-4f5b-b4a1-064103fcafae",
   "metadata": {},
   "outputs": [
    {
     "name": "stdin",
     "output_type": "stream",
     "text": [
      "Printing all the numbers Until zero is Entered: 5\n"
     ]
    },
    {
     "name": "stdout",
     "output_type": "stream",
     "text": [
      "5\n"
     ]
    },
    {
     "name": "stdin",
     "output_type": "stream",
     "text": [
      "Printing all the numbers Until zero is Entered: 6\n"
     ]
    },
    {
     "name": "stdout",
     "output_type": "stream",
     "text": [
      "6\n"
     ]
    },
    {
     "name": "stdin",
     "output_type": "stream",
     "text": [
      "Printing all the numbers Until zero is Entered: 7\n"
     ]
    },
    {
     "name": "stdout",
     "output_type": "stream",
     "text": [
      "7\n"
     ]
    },
    {
     "name": "stdin",
     "output_type": "stream",
     "text": [
      "Printing all the numbers Until zero is Entered: 4\n"
     ]
    },
    {
     "name": "stdout",
     "output_type": "stream",
     "text": [
      "4\n"
     ]
    },
    {
     "name": "stdin",
     "output_type": "stream",
     "text": [
      "Printing all the numbers Until zero is Entered: 3\n"
     ]
    },
    {
     "name": "stdout",
     "output_type": "stream",
     "text": [
      "3\n"
     ]
    },
    {
     "name": "stdin",
     "output_type": "stream",
     "text": [
      "Printing all the numbers Until zero is Entered: 0\n"
     ]
    },
    {
     "name": "stdout",
     "output_type": "stream",
     "text": [
      "You have entered 0 so you are free now\n"
     ]
    }
   ],
   "source": [
    "# num_input = ''\n",
    "\n",
    "# while num_input != 0:\n",
    "#     num_input = int(input('Printing all the numbers Until zero is Entered:'))\n",
    "#     if num_input != 0:\n",
    "#         print(num_input)\n",
    "# else:\n",
    "#     print(f'You have entered {num_input} so you are free now')\n",
    "\n",
    "\n"
   ]
  },
  {
   "cell_type": "raw",
   "id": "19bef15c-436a-46fe-8d56-91d3fa600824",
   "metadata": {},
   "source": [
    "Task 5: Factorial of a Number\n",
    "Problem: Compute the factorial of a non-negative integer.\n",
    "Input:\n",
    " 5\n",
    "Output\n",
    "120"
   ]
  },
  {
   "cell_type": "code",
   "execution_count": null,
   "id": "1414daa7-015c-476f-8972-563686723ed9",
   "metadata": {},
   "outputs": [],
   "source": [
    "n = int(input('Enter a number to print its factorial:'))\n",
    "factorial = 1\n",
    "\n",
    "while n > 0:\n",
    "    factorial *= n\n",
    "    n -= 1\n",
    "print('Factorial of above entered number is',factorial)"
   ]
  },
  {
   "cell_type": "raw",
   "id": "ef2378a5-a9db-4f01-836f-ab8202decbc7",
   "metadata": {},
   "source": [
    "Task 6: Find the Largest Digit\n",
    "Problem: Find the largest digit in the given number.\n",
    "Input:\n",
    " 58249\n",
    "Output:\n",
    " 9"
   ]
  },
  {
   "cell_type": "code",
   "execution_count": 1,
   "id": "766b8b10-659f-4dc1-a9a6-f30a614102b1",
   "metadata": {},
   "outputs": [
    {
     "name": "stdin",
     "output_type": "stream",
     "text": [
      "Enter a number to find the largest digit in it: 987\n"
     ]
    },
    {
     "name": "stdout",
     "output_type": "stream",
     "text": [
      "The max digit is:  9\n"
     ]
    }
   ],
   "source": [
    "num = int(input('Enter a number to find the largest digit in it:'))\n",
    "max_digit = 0\n",
    "\n",
    "while num != 0:\n",
    "    digit = num % 10\n",
    "    if digit > max_digit:\n",
    "        max_digit = digit\n",
    "    num //= 10\n",
    "print('The max digit is: ',max_digit)"
   ]
  },
  {
   "cell_type": "raw",
   "id": "b77398e8-29cd-4a81-8101-19c337f0c97c",
   "metadata": {},
   "source": [
    "Task 7: Count Even and Odd Digits\n",
    "Problem: Count the even and odd digits in a number.\n",
    "Input:\n",
    " 24561\n",
    "Output:\n",
    "Even: 2  \n",
    "Odd: 3"
   ]
  },
  {
   "cell_type": "code",
   "execution_count": 13,
   "id": "e4b2a25d-ec18-45a3-9c88-e7d31d3da990",
   "metadata": {},
   "outputs": [
    {
     "name": "stdin",
     "output_type": "stream",
     "text": [
      "Enter a number to check the number of evens and oddd in the number:  123454321\n"
     ]
    },
    {
     "name": "stdout",
     "output_type": "stream",
     "text": [
      "Even:  4\n",
      "Odd : 5\n"
     ]
    }
   ],
   "source": [
    "n = int(input('Enter a number to check the number of evens and oddd in the number: '))\n",
    "even = 0\n",
    "odd = 0\n",
    "\n",
    "while n != 0:\n",
    "    k = n % 10\n",
    "    n //= 10\n",
    "    if k % 2 == 0:\n",
    "        even += 1\n",
    "    else:\n",
    "        odd += 1\n",
    "    \n",
    "print('Even: ', even)\n",
    "print('Odd :', odd)\n",
    "    "
   ]
  },
  {
   "cell_type": "raw",
   "id": "b77b36b8-3734-47ad-9efc-d13adca7f3cc",
   "metadata": {},
   "source": [
    "Task 8: Check if a Number is a Palindrome\n",
    "Problem: Check if the number reads the same backward.\n",
    "Input:\n",
    " 1221\n",
    "Output:\n",
    " Yes\n",
    "Input:\n",
    " 1234\n",
    "Output:\n",
    " No"
   ]
  },
  {
   "cell_type": "code",
   "execution_count": 1,
   "id": "53f31b3b-fd04-4b43-ae22-979cfafecc0d",
   "metadata": {},
   "outputs": [
    {
     "name": "stdin",
     "output_type": "stream",
     "text": [
      "Enter Input: 1221\n"
     ]
    },
    {
     "name": "stdout",
     "output_type": "stream",
     "text": [
      "No\n"
     ]
    }
   ],
   "source": [
    "correct = int(input('Enter Input:'))\n",
    "correct_1 = correct\n",
    "reverse = ''\n",
    "\n",
    "while correct != 0:\n",
    "    reverse = reverse + str(correct % 10)\n",
    "    correct = correct // 10\n",
    "\n",
    "if correct_1 == reverse:\n",
    "    print('Yes')\n",
    "else:\n",
    "    print('No')"
   ]
  },
  {
   "cell_type": "raw",
   "id": "53870d7f-0bb5-4a4c-ab7c-4af84920c655",
   "metadata": {},
   "source": [
    "\n",
    "Task 9: Count the Number of Zeros\n",
    "Problem: Count how many digits in the number are zero.\n",
    "Input:\n",
    " 1020300\n",
    "Output:\n",
    " 4"
   ]
  },
  {
   "cell_type": "code",
   "execution_count": 9,
   "id": "6e27fc1e-0283-4206-a6a5-da951093e77f",
   "metadata": {},
   "outputs": [
    {
     "name": "stdin",
     "output_type": "stream",
     "text": [
      "Enter a number to Count the Number of Zeros: 90809080\n"
     ]
    },
    {
     "name": "stdout",
     "output_type": "stream",
     "text": [
      "4\n"
     ]
    }
   ],
   "source": [
    "num = int(input('Enter a number to Count the Number of Zeros:'))\n",
    "count = 0\n",
    "\n",
    "while num != 0:\n",
    "    k = num % 10\n",
    "    num //= 10\n",
    "    if k == 0:\n",
    "        count += 1\n",
    "print(count)"
   ]
  },
  {
   "cell_type": "markdown",
   "id": "2975fed4-5bbc-495e-84c2-e93289e45d70",
   "metadata": {},
   "source": [
    "Task 10: Find the First Digit of a Number\n",
    "Problem: Find the leftmost digit of a number.\n",
    "Input:\n",
    " 98765\n",
    "Output:\n",
    " 9"
   ]
  },
  {
   "cell_type": "code",
   "execution_count": null,
   "id": "a571f4e4-4187-4dcf-aea1-5b4baca11ccf",
   "metadata": {},
   "outputs": [],
   "source": [
    "x = int(input())\n",
    "y = str(x)\n",
    "i = 1\n",
    "\n",
    "while i != len(y):\n",
    "    x //= 10\n",
    "    i += 1\n",
    "print(x)"
   ]
  },
  {
   "cell_type": "markdown",
   "id": "a9d5a71c-21b5-464e-aef1-00f0c9975e9c",
   "metadata": {},
   "source": [
    "Task 11: Multiplication Table (1 to 10)\n",
    "Problem: Print the multiplication table of a number from 1 to 10.\n",
    "Input:\n",
    " 5\n",
    "Output:\n",
    "5 x 1 = 5  \n",
    "5 x 2 = 10  \n",
    "5 x 3 = 15  \n",
    "5 x 4 = 20  \n",
    "5 x 5 = 25  \n",
    "5 x 6 = 30  \n",
    "5 x 7 = 35  \n",
    "5 x 8 = 40  \n",
    "5 x 9 = 45  \n",
    "5 x 10 = 50"
   ]
  },
  {
   "cell_type": "code",
   "execution_count": 1,
   "id": "9c5237cf-cbb0-4b14-b521-4815fabecbb6",
   "metadata": {},
   "outputs": [
    {
     "name": "stdin",
     "output_type": "stream",
     "text": [
      " 9\n"
     ]
    },
    {
     "name": "stdout",
     "output_type": "stream",
     "text": [
      "9 x 1 = 9\n",
      "9 x 2 = 18\n",
      "9 x 3 = 27\n",
      "9 x 4 = 36\n",
      "9 x 5 = 45\n",
      "9 x 6 = 54\n",
      "9 x 7 = 63\n",
      "9 x 8 = 72\n",
      "9 x 9 = 81\n",
      "9 x 10 = 90\n"
     ]
    }
   ],
   "source": [
    "n = int(input())\n",
    "multiply = 1\n",
    "\n",
    "while multiply < 11:\n",
    "    print(n,'x',multiply,'=',multiply*n)\n",
    "    multiply += 1"
   ]
  },
  {
   "cell_type": "code",
   "execution_count": 7,
   "id": "492ecdce-fb88-472a-93ae-0c8053725005",
   "metadata": {},
   "outputs": [
    {
     "name": "stdin",
     "output_type": "stream",
     "text": [
      " 987654\n"
     ]
    },
    {
     "name": "stdout",
     "output_type": "stream",
     "text": [
      "456789\n"
     ]
    }
   ],
   "source": [
    "num = int(input())\n",
    "reversed_num = 0\n",
    "\n",
    "while num > 0:\n",
    "    last_digit = num % 10\n",
    "    reversed_num = reversed_num * 10 + last_digit  # Build reversed number\n",
    "    num = num // 10\n",
    "\n",
    "print(reversed_num)  # Output: 4321"
   ]
  },
  {
   "cell_type": "code",
   "execution_count": 5,
   "id": "a8faa354-80e1-4340-bc0a-a96388fb1aa9",
   "metadata": {},
   "outputs": [
    {
     "name": "stdin",
     "output_type": "stream",
     "text": [
      "Enter a number:  9898\n"
     ]
    },
    {
     "name": "stdout",
     "output_type": "stream",
     "text": [
      "8989"
     ]
    }
   ],
   "source": [
    "num = int(input(\"Enter a number: \"))\n",
    "\n",
    "while num > 0:\n",
    "    last_digit = num % 10  # Extract the last digit\n",
    "    print(last_digit, end=\"\")  # Print without newline\n",
    "    num = num // 10  # Remove the last digit"
   ]
  },
  {
   "cell_type": "code",
   "execution_count": null,
   "id": "c396ce19-0166-4bdb-9fa5-9e19142984e0",
   "metadata": {},
   "outputs": [],
   "source": []
  }
 ],
 "metadata": {
  "kernelspec": {
   "display_name": "Python [conda env:base] *",
   "language": "python",
   "name": "conda-base-py"
  },
  "language_info": {
   "codemirror_mode": {
    "name": "ipython",
    "version": 3
   },
   "file_extension": ".py",
   "mimetype": "text/x-python",
   "name": "python",
   "nbconvert_exporter": "python",
   "pygments_lexer": "ipython3",
   "version": "3.12.7"
  }
 },
 "nbformat": 4,
 "nbformat_minor": 5
}
