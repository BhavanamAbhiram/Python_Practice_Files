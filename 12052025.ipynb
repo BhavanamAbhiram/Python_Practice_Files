{
 "cells": [
  {
   "cell_type": "markdown",
   "id": "4d3de9fc-a790-423d-9170-8e307cc5ac77",
   "metadata": {},
   "source": [
    "# Task  - Tuple 1:"
   ]
  },
  {
   "cell_type": "markdown",
   "id": "f3a266b6-fc56-47af-9e5e-4711996a8239",
   "metadata": {},
   "source": [
    "### Tuple Immutability : Explain the concept of immutability in Python tuples with examples. Discuss why tuples are considered immutable data structures."
   ]
  },
  {
   "cell_type": "code",
   "execution_count": 15,
   "id": "9041c01f-1fe4-43fa-8ff8-994792771c45",
   "metadata": {},
   "outputs": [],
   "source": [
    "## In Python Tuples are Immutable in nature and the below demonstration proves that the concept of immutability of tuples in Python.\n",
    "\n",
    "tuple_example = ('Innomatics', 7670964969, 'research', 'labs')\n",
    "\n",
    "tuple_example[1] = 18\n",
    "\n",
    "## I have created a tuple with 4 elements and now trying to insert a element at index 1 by [] as there are no methods like append or insert in tuples and\n",
    "## it throws an error as ''tuple' object does not support item assignment'."
   ]
  },
  {
   "cell_type": "markdown",
   "id": "379319bc-918c-4383-9304-2da1ec2961ae",
   "metadata": {},
   "source": [
    "### Tuple Basics : Create a Python tuple containing the names of your favorite fruits. Write a Python program to print each fruit name from the tuple."
   ]
  },
  {
   "cell_type": "code",
   "execution_count": 20,
   "id": "771512cd-e2ca-4574-a095-5da7f4045f59",
   "metadata": {},
   "outputs": [
    {
     "name": "stdout",
     "output_type": "stream",
     "text": [
      "melon\n",
      "apple\n",
      "banana\n",
      "mango\n",
      "gauva\n"
     ]
    }
   ],
   "source": [
    "fruits_tuple = ( 'melon', 'apple', 'banana', 'mango', 'gauva')\n",
    "\n",
    "print(fruits_tuple[0])\n",
    "print(fruits_tuple[1])\n",
    "print(fruits_tuple[2])\n",
    "print(fruits_tuple[3])\n",
    "print(fruits_tuple[4])"
   ]
  },
  {
   "cell_type": "markdown",
   "id": "bd49eb72-3b5a-4bd5-a4be-0161bfa29325",
   "metadata": {},
   "source": [
    "# Task  - Tuple_2:\n",
    "\n"
   ]
  },
  {
   "cell_type": "markdown",
   "id": "5537aa48-e5ca-4b4f-87e1-e1d2bae430fa",
   "metadata": {},
   "source": [
    "### Given two tuples, write a Python program to concatenate them into a single tuple and then find the length of the resulting tuple."
   ]
  },
  {
   "cell_type": "code",
   "execution_count": 27,
   "id": "d4929229-d775-4c41-9778-05a039de800b",
   "metadata": {},
   "outputs": [
    {
     "name": "stdout",
     "output_type": "stream",
     "text": [
      "(42, 3.14, 'Hello', True, [1, 2, 3], 1, 2, 2, 3, 2, 4)\n",
      "11\n"
     ]
    }
   ],
   "source": [
    "tuple_1 = (42, 3.14, \"Hello\", True, [1, 2, 3],)\n",
    "tuple_2 = (1, 2, 2, 3, 2, 4)\n",
    "\n",
    "concatenated_tuple = tuple_1 + tuple_2\n",
    "\n",
    "print(concatenated_tuple)\n",
    "print(len(concatenated_tuple)) ## returns the length of the new tuple."
   ]
  },
  {
   "cell_type": "markdown",
   "id": "e59da81f-1e0c-412a-9441-c4894fbff9a3",
   "metadata": {},
   "source": [
    "### Write a Python program that takes a tuple of integers and converts it into a set. Then, find and print the maximum and minimum value from the set."
   ]
  },
  {
   "cell_type": "code",
   "execution_count": 35,
   "id": "3997451c-fba6-4518-9596-948b918a88cc",
   "metadata": {},
   "outputs": [
    {
     "name": "stdout",
     "output_type": "stream",
     "text": [
      "<class 'set'>\n",
      "4\n",
      "1\n"
     ]
    }
   ],
   "source": [
    "tuple_integers = (1, 2, 2, 3, 2, 4)\n",
    "tuple_to_set = set(tuple_integers)\n",
    "\n",
    "print(type(tuple_to_set)) ## Checking whether the type is <set> or not\n",
    "print(max(tuple_to_set)) ## Returns maximum value of the tuple\n",
    "print(min(tuple_to_set)) ## Returns mininum value of the tuple"
   ]
  },
  {
   "cell_type": "markdown",
   "id": "cca302b8-e5b4-4bb9-b896-543ada22c86c",
   "metadata": {},
   "source": [
    "### Tuple Slicing : Given a tuple of 10 elements, write a Python program to print the elements from the 3rd to the 7th position using slicing.\n"
   ]
  },
  {
   "cell_type": "code",
   "execution_count": 41,
   "id": "141f9c6a-96b7-4d9d-9856-316de2c9c76e",
   "metadata": {},
   "outputs": [
    {
     "name": "stdout",
     "output_type": "stream",
     "text": [
      "('Hello', True, [1, 2, 3], 'innomatics', 'research')\n"
     ]
    }
   ],
   "source": [
    "tuple_10_elements = (42, 3.14, \"Hello\", True, [1, 2, 3], 'innomatics', 'research', 'labs', 'scan', 69)\n",
    "\n",
    "print(tuple_10_elements[2:7])"
   ]
  },
  {
   "cell_type": "markdown",
   "id": "5d022ffd-c15c-45eb-a0dc-738af2447693",
   "metadata": {},
   "source": [
    "### Access value '20' from the tuple1 = (\"Orange\", [10, 20, 30], (5, 15, 25))"
   ]
  },
  {
   "cell_type": "code",
   "execution_count": 48,
   "id": "480cfb98-b4bc-4c7e-92d4-3cd317aa5462",
   "metadata": {},
   "outputs": [
    {
     "name": "stdout",
     "output_type": "stream",
     "text": [
      "20\n"
     ]
    }
   ],
   "source": [
    "tuple1 = (\"Orange\", [10, 20, 30], (5, 15, 25))\n",
    "\n",
    "print(tuple1[1][1])"
   ]
  },
  {
   "cell_type": "markdown",
   "id": "f47851fc-7127-4bf7-9296-df95c5eaf791",
   "metadata": {},
   "source": [
    "### tup=(1,2,3,2,4,5,3,4,2). Count the occurrences of element ‘2’ in the given tuple.\n"
   ]
  },
  {
   "cell_type": "code",
   "execution_count": 51,
   "id": "6a8c402f-694f-4799-b5fb-0305f100c9c3",
   "metadata": {},
   "outputs": [
    {
     "data": {
      "text/plain": [
       "3"
      ]
     },
     "execution_count": 51,
     "metadata": {},
     "output_type": "execute_result"
    }
   ],
   "source": [
    "tup=(1,2,3,2,4,5,3,4,2)\n",
    "\n",
    "tup.count(2)"
   ]
  },
  {
   "cell_type": "markdown",
   "id": "ef8b9327-2b97-4ee6-9c5b-ef83bc33e521",
   "metadata": {},
   "source": [
    "### Create a tuple of numbers. Use slicing to create a new tuple containing only the even-indexed elements of the original tuple."
   ]
  },
  {
   "cell_type": "code",
   "execution_count": 64,
   "id": "71b42857-cf5c-4029-8ee0-d57c54866542",
   "metadata": {},
   "outputs": [
    {
     "name": "stdout",
     "output_type": "stream",
     "text": [
      "(1, 2, 2, 5, 7, 8, 0, 7, 6, 7, 43, 345)\n"
     ]
    }
   ],
   "source": [
    "tuple_numbers = (1, 2, 2, 3, 2, 4,5,6,7,87,8,9,0,23,7,6,6,76,7,5,43,3,345,56)\n",
    "\n",
    "even_indexed_tuple = tuple_numbers[::2]\n",
    "\n",
    "print(even_indexed_tuple) ### returns only the even-indexed elements of the original tuple."
   ]
  },
  {
   "cell_type": "code",
   "execution_count": null,
   "id": "7efec588-08e6-4f1a-a7dd-7a739decc459",
   "metadata": {},
   "outputs": [],
   "source": []
  }
 ],
 "metadata": {
  "kernelspec": {
   "display_name": "Python [conda env:base] *",
   "language": "python",
   "name": "conda-base-py"
  },
  "language_info": {
   "codemirror_mode": {
    "name": "ipython",
    "version": 3
   },
   "file_extension": ".py",
   "mimetype": "text/x-python",
   "name": "python",
   "nbconvert_exporter": "python",
   "pygments_lexer": "ipython3",
   "version": "3.12.7"
  }
 },
 "nbformat": 4,
 "nbformat_minor": 5
}
