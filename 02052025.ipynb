{
 "cells": [
  {
   "cell_type": "markdown",
   "id": "2a51c5e8-727b-48dc-8658-2edec4ab0b7d",
   "metadata": {},
   "source": [
    "# OPERATORS"
   ]
  },
  {
   "cell_type": "markdown",
   "id": "8749c23a-440e-4f3f-9bbc-3fbd086316e7",
   "metadata": {},
   "source": [
    "## Arithmetic Operators:"
   ]
  },
  {
   "cell_type": "markdown",
   "id": "ab0eaab7-a1f6-4068-b2fb-3c947a6d17df",
   "metadata": {},
   "source": [
    "### Create a Python script that defines two variables, num1 and num2, with any numeric values.\n",
    "### Use arithmetic operators (+, -, *, /, //, %, **) to perform the following operations:\n",
    "- Add num1 and num2.\n",
    "- Subtract num2 from num1.\n",
    "- Multiply num1 and num2.\n",
    "- Divide num1 by num2.\n",
    "- Find the floor division of num1 by num2.\n",
    "- Find the remainder when dividing num1 by num2.\n",
    "- Calculate num1 raised to the power of num2.\n",
    "- You have a floor that is 95 meter long and 58.8 meter wide. Find out the total area using python and print it. "
   ]
  },
  {
   "cell_type": "code",
   "execution_count": 23,
   "id": "df48db09-f1ac-411c-9a1a-cbf5becf2615",
   "metadata": {},
   "outputs": [
    {
     "name": "stdout",
     "output_type": "stream",
     "text": [
      "35\n",
      "-1\n",
      "306\n",
      "1.0588235294117647\n",
      "1\n",
      "1\n",
      "2185911559738696531968\n",
      "5586.0\n"
     ]
    }
   ],
   "source": [
    "num1 = 18\n",
    "num2 = 17\n",
    "\n",
    "print(num1 + num2) # Using the '+' operator between num1 and num2 we print their addition.\n",
    "print(num2 - num1) # using the '-' operator between num2 and num1 we print their difference.\n",
    "print(num1 * num2) # Using the '*' operator between num1 and num2 we print the product.\n",
    "print(num1 / num2) # Using the '/' operator between num1 and num2 we print the quotient with float value to it.\n",
    "print(num1 // num2) # Using the '//' operator between num1 and num2 we print the quotient rounded off.\n",
    "print(num1 % num2) # Using the '%' operator between num1 and num2 we print the remainder.\n",
    "print(num1 ** num2) # Using the '**' operator between num1 and num2 we print the power of the operands.\n",
    "\n",
    "\n",
    "\n",
    "floor_length = 95 # length of the floor\n",
    "floor_width = 58.8 # width/breadth of the floor\n",
    "area_floor = floor_length * floor_width # area is length multiplied with the breadth\n",
    "print(area_floor) # prints the area of the floor"
   ]
  },
  {
   "cell_type": "markdown",
   "id": "cca7f9ad-a214-4b74-aafd-0ca7bdaf5049",
   "metadata": {},
   "source": [
    "# Logical Operator:"
   ]
  },
  {
   "cell_type": "markdown",
   "id": "6d65a216-cef3-496b-8f98-6d4beddedf73",
   "metadata": {},
   "source": [
    "### Create a Python script that defines two boolean variables, is_sunny and is_warm, with appropriate values (True or False).\n",
    "### Use logical operators (and, or, not) to create the following conditions:\n",
    "- Check if it's both sunny and warm and print the result.\n",
    "- Check if it's either sunny or warm and print the result.\n",
    "- Check if it's not sunny and print the result."
   ]
  },
  {
   "cell_type": "code",
   "execution_count": 27,
   "id": "1ae4331d-51fb-41c7-af00-730f1661c58e",
   "metadata": {},
   "outputs": [
    {
     "name": "stdout",
     "output_type": "stream",
     "text": [
      "False\n",
      "True\n",
      "True\n"
     ]
    }
   ],
   "source": [
    "is_sunny = False\n",
    "is_warm  = True\n",
    "\n",
    "print( is_sunny and is_warm) # as is_sunny is false and is_warm is true 'False and True' -- False\n",
    "print( is_sunny or is_warm) # as is_sunny is false and is_warm is true 'True or False' -- True\n",
    "print(not is_sunny) # as is_sunny is False and it's invert is True(not)."
   ]
  },
  {
   "cell_type": "markdown",
   "id": "03fd9307-77ef-42df-84e8-036e7db5ccd4",
   "metadata": {},
   "source": [
    "# Comparison Operator:"
   ]
  },
  {
   "cell_type": "markdown",
   "id": "1f9d4456-d192-4d57-a170-ec0665900956",
   "metadata": {},
   "source": [
    "### Create a Python script that defines two variables, a and b, with any numeric values.\n",
    "### Use comparative operators (==, !=, <, >, <=, >=) to create the following conditions:\n",
    "### Check if a is equal to b and print the result.\n",
    "- Check if a is not equal to b and print the result.\n",
    "- Check if a is less than b and print the result.\n",
    "- Check if a is greater than b and print the result.\n",
    "- Check if a is less than or equal to b and print the result.\n",
    "- Check if a is greater than or equal to b and print the result."
   ]
  },
  {
   "cell_type": "code",
   "execution_count": 31,
   "id": "a14dfaf4-3cb4-45a0-b6bb-f43fa3bf2639",
   "metadata": {},
   "outputs": [
    {
     "name": "stdout",
     "output_type": "stream",
     "text": [
      "True\n",
      "False\n",
      "True\n",
      "False\n",
      "True\n",
      "False\n"
     ]
    }
   ],
   "source": [
    "a = 18\n",
    "b = 17\n",
    "\n",
    "print( a != b) # as the values assigned for a and b are not equal, hence the result is True.\n",
    "print( a < b) # as value of a is greater than b, the result is False.\n",
    "print( a > b) # as indicated in the condition a greater than b, result is True.\n",
    "print( a <= b) # this operator checks two conditions '<' first and '=' next, returns False.\n",
    "print( a >= b) # this operator checks two conditions '>' first and '=' next, returns True.\n",
    "print( a == b) # this operator checks whether the data of both the variables are equal or not, returns False."
   ]
  }
 ],
 "metadata": {
  "kernelspec": {
   "display_name": "Python [conda env:base] *",
   "language": "python",
   "name": "conda-base-py"
  },
  "language_info": {
   "codemirror_mode": {
    "name": "ipython",
    "version": 3
   },
   "file_extension": ".py",
   "mimetype": "text/x-python",
   "name": "python",
   "nbconvert_exporter": "python",
   "pygments_lexer": "ipython3",
   "version": "3.12.7"
  }
 },
 "nbformat": 4,
 "nbformat_minor": 5
}
