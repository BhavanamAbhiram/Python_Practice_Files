{
 "cells": [
  {
   "cell_type": "markdown",
   "id": "f149528f-888a-42aa-b2ce-1b112060d526",
   "metadata": {},
   "source": [
    "#  Python Functions Task"
   ]
  },
  {
   "cell_type": "raw",
   "id": "b2e22961-ab12-4af1-afc6-2a14cf02252f",
   "metadata": {},
   "source": [
    "Q1. Maximum of 3 Numbers & Even/Odd Check\n",
    "Task:\n",
    "Write a function to get the maximum of 3 numbers.\n",
    "Write a function to check if a number is even or odd.\n",
    "\n",
    "Function: get_max(a, b, c)\n",
    "Input: get_max(10, 20, 5)\n",
    "\n",
    "Output: 20\n",
    "\n",
    "Function: is_even(n)\n",
    "Input: is_even(10) → Output: even\n",
    "Input: is_even(23) → Output: odd\n"
   ]
  },
  {
   "cell_type": "code",
   "execution_count": 10,
   "id": "8ee23189-6f6b-480e-8a06-c0a1f16da295",
   "metadata": {},
   "outputs": [
    {
     "name": "stdout",
     "output_type": "stream",
     "text": [
      "20\n",
      "even\n",
      "odd\n"
     ]
    }
   ],
   "source": [
    "def get_max(a,b,c):\n",
    "    if a > b and a > c:\n",
    "        return a\n",
    "    elif b > a and b > c:\n",
    "        return b\n",
    "    else:\n",
    "        return c\n",
    "\n",
    "\n",
    "def is_even(n):\n",
    "    if n % 2 == 0:\n",
    "        return 'even'\n",
    "    else:\n",
    "        return 'odd'\n",
    "\n",
    "print(get_max(10, 20, 5))\n",
    "print(is_even(10))\n",
    "print(is_even(23))"
   ]
  },
  {
   "cell_type": "raw",
   "id": "64f826a8-d2d5-4c1b-91b5-66ecfb036725",
   "metadata": {},
   "source": [
    "Q2. Sum of List Elements\n",
    "Task: Write a function to return the sum of all values in a given list.\n",
    "    \n",
    "Function: my_sum(lst)\n",
    "Input: my_sum([1, 2, 3, 4, 5]) → Output: 15\n",
    "Input: my_sum([10, 11, 12]) → Output: 33"
   ]
  },
  {
   "cell_type": "code",
   "execution_count": 18,
   "id": "36ee3ef9-10a0-4c86-8396-47caa9ec398a",
   "metadata": {},
   "outputs": [
    {
     "name": "stdout",
     "output_type": "stream",
     "text": [
      "15\n",
      "33\n"
     ]
    }
   ],
   "source": [
    "## using directly sum()\n",
    "def my_sum(lst):\n",
    "    return sum(lst)\n",
    "\n",
    "## using a for loop for sum of list\n",
    "def my_sum(lst):\n",
    "    sum = 0\n",
    "    for i in lst:\n",
    "        sum += i\n",
    "    return sum\n",
    "\n",
    "print(my_sum([1, 2, 3, 4, 5]))\n",
    "print(my_sum([10, 11, 12]))"
   ]
  },
  {
   "cell_type": "code",
   "execution_count": null,
   "id": "45ea2d23-e49d-431c-aa11-c3c48323756a",
   "metadata": {},
   "outputs": [],
   "source": [
    "Q3. Custom Range Generator\n",
    "Task: Create a function my_range() that mimics the behavior of Python's range().\n",
    "\n",
    "Function: my_range(start, stop, step)\n",
    "Input: my_range(1, 10, 1) → Output: 1, 2, 3, 4, 5, 6, 7, 8, 9\n",
    "Input: my_range(1, 10, 2) → Output: 1, 3, 5, 7, 9\n",
    "Input: my_range(10, 1, -1) → Output: 10, 9, 8, 7, 6, 5, 4, 3, 2\n",
    "Input: my_range(10, 1, -2) → Output: 10, 8, 6, 4, 2"
   ]
  },
  {
   "cell_type": "code",
   "execution_count": 11,
   "id": "a5152952-1c27-48ee-91b2-d63cb9c25cfd",
   "metadata": {},
   "outputs": [
    {
     "name": "stdout",
     "output_type": "stream",
     "text": [
      "[1, 2, 3, 4, 5, 6, 7, 8, 9]\n",
      "[1, 3, 5, 7, 9]\n",
      "[10, 9, 8, 7, 6, 5, 4, 3, 2]\n",
      "[10, 8, 6, 4, 2]\n"
     ]
    }
   ],
   "source": [
    "def my_range(start, stop, step):\n",
    "        \n",
    "    result = []\n",
    "    i = start\n",
    "    \n",
    "    if step > 0:\n",
    "        while i < stop:\n",
    "            result.append(i)\n",
    "            i = i + step\n",
    "    elif step < 0:\n",
    "        while i > stop:\n",
    "            result.append(i)\n",
    "            i = i + step  \n",
    "    \n",
    "    return result\n",
    "\n",
    "print(my_range(1, 10, 1))\n",
    "print(my_range(1, 10, 2))\n",
    "print(my_range(10, 1, -1))\n",
    "print(my_range(10, 1, -2))"
   ]
  },
  {
   "cell_type": "raw",
   "id": "377e3dd7-8dc0-4513-9f25-1a0f7803755e",
   "metadata": {},
   "source": [
    "Q4. Count Vowels in a String\n",
    "Task: Write a function to count how many vowels are present in a string.\n",
    "\n",
    "Function: count_vowels(s)\n",
    "Input: count_vowels(\"hello\") → Output: 2\n",
    "Input: count_vowels(\"python\") → Output: 1"
   ]
  },
  {
   "cell_type": "code",
   "execution_count": 46,
   "id": "73240a2f-81d9-4afe-a44c-1232559842a1",
   "metadata": {},
   "outputs": [
    {
     "name": "stdout",
     "output_type": "stream",
     "text": [
      "2\n",
      "1\n"
     ]
    }
   ],
   "source": [
    "def count_vowels(s):\n",
    "    count = 0\n",
    "    for each_char in s:\n",
    "        if each_char.lower() in 'aeiou':\n",
    "            count += 1\n",
    "    return count\n",
    "\n",
    "print(count_vowels(\"hello\"))\n",
    "print(count_vowels(\"python\"))"
   ]
  },
  {
   "cell_type": "raw",
   "id": "3c66df30-e566-4669-8ef7-b9d068703355",
   "metadata": {},
   "source": [
    "Q5. Reverse a List\n",
    "Task: Write a function that returns the reverse of a given list.\n",
    "\n",
    "Function: reverse_list(lst)\n",
    "Input: reverse_list([1, 2, 3, 4]) → Output: [4, 3, 2, 1]\n",
    "Input: reverse_list([\"a\", \"b\", \"c\"]) → Output: [\"c\", \"b\", \"a\"]"
   ]
  },
  {
   "cell_type": "code",
   "execution_count": 19,
   "id": "6ae0fa37-b6c9-416c-9145-5b4b8ac83668",
   "metadata": {},
   "outputs": [
    {
     "name": "stdout",
     "output_type": "stream",
     "text": [
      "[4, 3, 2, 1]\n",
      "['c', 'b', 'a']\n"
     ]
    }
   ],
   "source": [
    "def reverse_list(lst):\n",
    "    reverse_lst = []\n",
    "    for i in range(len(lst)-1,-1,-1):\n",
    "        reverse_lst.append(lst[i])\n",
    "    return reverse_lst\n",
    "\n",
    "# def reverse_list(lst):\n",
    "#     return lst[::-1]\n",
    "#     return list(reverse(lst))\n",
    "\n",
    "print(reverse_list([1, 2, 3, 4]))\n",
    "print(reverse_list([\"a\", \"b\", \"c\"]))"
   ]
  },
  {
   "cell_type": "raw",
   "id": "1783a00a-946e-4f5e-9993-ef927c355693",
   "metadata": {},
   "source": [
    "Q6. Check for Palindrome\n",
    "Task: Check whether a string is a palindrome.\n",
    "\n",
    "Function: is_palindrome(s)\n",
    "Input: is_palindrome(\"madam\") → Output: True\n",
    "Input: is_palindrome(\"hello\") → Output: False"
   ]
  },
  {
   "cell_type": "code",
   "execution_count": 74,
   "id": "3e2af72e-6ab0-454a-b1bd-3700b42880c9",
   "metadata": {},
   "outputs": [
    {
     "name": "stdout",
     "output_type": "stream",
     "text": [
      "True\n",
      "False\n"
     ]
    }
   ],
   "source": [
    "def is_palindrome(s):\n",
    "    rev_s = s[::-1]\n",
    "    if s == rev_s:\n",
    "        return True\n",
    "    else:\n",
    "        return False\n",
    "\n",
    "print(is_palindrome(\"madam\"))\n",
    "print(is_palindrome(\"hello\"))"
   ]
  },
  {
   "cell_type": "code",
   "execution_count": null,
   "id": "a994ccec-155b-4ad4-945a-bb901eb7ac0c",
   "metadata": {},
   "outputs": [],
   "source": [
    "Q7. Factorial of a Number\n",
    "Task: Return the factorial of a given number.\n",
    "\n",
    "Function: factorial(n)\n",
    "Input: factorial(5) → Output: 120\n",
    "Input: factorial(3) → Output: 6"
   ]
  },
  {
   "cell_type": "code",
   "execution_count": 80,
   "id": "7ee44ba5-1f7e-45d0-b517-696788a38819",
   "metadata": {},
   "outputs": [
    {
     "name": "stdout",
     "output_type": "stream",
     "text": [
      "120\n",
      "6\n"
     ]
    }
   ],
   "source": [
    "def factorial(n):\n",
    "    fact = 1\n",
    "    while n > 0:\n",
    "        fact *= n\n",
    "        n -= 1\n",
    "    return fact\n",
    "\n",
    "print(factorial(5))\n",
    "print(factorial(3))"
   ]
  },
  {
   "cell_type": "raw",
   "id": "bfaa2379-04b0-4185-b702-478fb2f68a12",
   "metadata": {},
   "source": [
    "Q8. Minimum Value in a List\n",
    "Task: Return the smallest number from a given list.\n",
    "\n",
    "Function: find_min(lst)\n",
    "Input: find_min([3, 5, 1, 9]) → Output: 1\n",
    "Input: find_min([10, 20, -5, 7]) → Output: -5"
   ]
  },
  {
   "cell_type": "code",
   "execution_count": 118,
   "id": "ea86ec1c-29e2-4553-86e1-d2cfa75d7911",
   "metadata": {},
   "outputs": [
    {
     "name": "stdout",
     "output_type": "stream",
     "text": [
      "1\n",
      "-5\n"
     ]
    }
   ],
   "source": [
    "# def find_min(lst):\n",
    "#     min_value = 1\n",
    "#     for i in lst:\n",
    "#         if i < min_value:\n",
    "#             min_value = i\n",
    "#     return min_value\n",
    "\n",
    "def find_min(lst):\n",
    "    return min(lst)\n",
    "\n",
    "print(find_min([3, 5, 1, 9]))\n",
    "print(find_min([10, 20, -5, 7]))"
   ]
  },
  {
   "cell_type": "raw",
   "id": "d645d62c-52e2-4579-833a-dcb61728e91e",
   "metadata": {},
   "source": [
    "Q9. Count Words in a Sentence\n",
    "Task: Count the number of words in a sentence.\n",
    "\n",
    "Function: count_words(sentence)\n",
    "Input: count_words(\"I love Python\") → Output: 3\n",
    "Input: count_words(\"Hello world!\") → Output: 2"
   ]
  },
  {
   "cell_type": "code",
   "execution_count": 114,
   "id": "c564be9b-4946-4403-8308-ff9a59f9cea5",
   "metadata": {},
   "outputs": [
    {
     "name": "stdout",
     "output_type": "stream",
     "text": [
      "3\n",
      "2\n"
     ]
    }
   ],
   "source": [
    "def count_words(sentence):\n",
    "    lst = sentence.split(' ')\n",
    "    count = 0\n",
    "    for each in lst:\n",
    "        count += 1\n",
    "    return count\n",
    "\n",
    "print(count_words(\"I love Python\"))\n",
    "print(count_words(\"Hello world!\"))"
   ]
  },
  {
   "cell_type": "raw",
   "id": "00fc5419-81cd-4169-b43e-e6983754c6e5",
   "metadata": {},
   "source": [
    "Q10. Remove Duplicates from List\n",
    "Task: Remove duplicate values from a list.\n",
    "\n",
    "Function: remove_duplicates(lst)\n",
    "Input: remove_duplicates([1, 2, 2, 3, 1]) → Output: [1, 2, 3]\n",
    "Input: remove_duplicates([\"a\", \"b\", \"a\", \"c\"]) → Output: [\"a\", \"b\", \"c\"]"
   ]
  },
  {
   "cell_type": "code",
   "execution_count": 120,
   "id": "b98ca03a-c244-435c-9bf5-bf0ccc5fc023",
   "metadata": {},
   "outputs": [
    {
     "name": "stdout",
     "output_type": "stream",
     "text": [
      "[1, 2, 3]\n",
      "['c', 'b', 'a']\n"
     ]
    }
   ],
   "source": [
    "def remove_duplicates(lst):\n",
    "    no_dups = set(lst)\n",
    "    new_lst = list(no_dups)\n",
    "    return new_lst\n",
    "\n",
    "print(remove_duplicates([1, 2, 2, 3, 1]))\n",
    "print(remove_duplicates([\"a\", \"b\", \"a\", \"c\"]))"
   ]
  },
  {
   "cell_type": "code",
   "execution_count": 13,
   "id": "36a6cebb-8d76-462d-8124-e3b418979794",
   "metadata": {},
   "outputs": [
    {
     "name": "stdout",
     "output_type": "stream",
     "text": [
      "i\n",
      "h\n",
      "b\n",
      "a\n"
     ]
    }
   ],
   "source": [
    "list1 = ['a','b','h','i']\n",
    "\n",
    "for i in range(1,len(list1)+1):\n",
    "    print(list1[-i])"
   ]
  },
  {
   "cell_type": "code",
   "execution_count": null,
   "id": "a3b54a2d-54eb-460b-9a18-2bc13d61a19a",
   "metadata": {},
   "outputs": [],
   "source": []
  }
 ],
 "metadata": {
  "kernelspec": {
   "display_name": "Python [conda env:base] *",
   "language": "python",
   "name": "conda-base-py"
  },
  "language_info": {
   "codemirror_mode": {
    "name": "ipython",
    "version": 3
   },
   "file_extension": ".py",
   "mimetype": "text/x-python",
   "name": "python",
   "nbconvert_exporter": "python",
   "pygments_lexer": "ipython3",
   "version": "3.12.7"
  }
 },
 "nbformat": 4,
 "nbformat_minor": 5
}
