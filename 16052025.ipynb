{
 "cells": [
  {
   "cell_type": "markdown",
   "id": "8a14e925-0391-46dc-8507-803a269c1f2a",
   "metadata": {},
   "source": [
    "# Daily Class Task On Conditional Statements"
   ]
  },
  {
   "cell_type": "code",
   "execution_count": 106,
   "id": "93941d61-9e48-46bf-a83d-212b0b737148",
   "metadata": {},
   "outputs": [
    {
     "name": "stdout",
     "output_type": "stream",
     "text": [
      "number of items in the list are : 5\n",
      "['spider man', 'thor', 'hulk', 'iron man', 'captain america', 'black panther']\n",
      "['spider man', 'thor', 'hulk', 'black panther', 'iron man', 'captain america']\n",
      "['spider man', 'doctor strange', 'black panther', 'iron man', 'captain america']\n",
      "['black panther', 'captain america', 'doctor strange', 'iron man', 'spider man']\n"
     ]
    }
   ],
   "source": [
    "### Question 1: Marvel Superheroes List Manipulation\n",
    "### You are given this list:\n",
    "\n",
    "\n",
    "heroes = ['spider man', 'thor', 'hulk', 'iron man', 'captain america']\n",
    "\n",
    "### Perform the following:\n",
    "### Find and print the number of items in the list.\n",
    "print('number of items in the list are :',len(heroes))\n",
    "###  💡 Hint: Use len() function.\n",
    "\n",
    "\n",
    "\n",
    "### Add 'black panther' to the end of the list.\n",
    "heroes.append('black panther')\n",
    "print(heroes)\n",
    "###  💡 Hint: Use append() method.\n",
    "\n",
    "\n",
    "### Remove 'black panther' and insert it after 'hulk'.\n",
    "heroes.remove('black panther')\n",
    "heroes.insert(3,'black panther')\n",
    "print(heroes)\n",
    "###  💡 Hint: Use remove() and insert() methods.\n",
    "\n",
    "\n",
    "### Replace 'thor' and 'hulk' with 'doctor strange' using one line.\n",
    "heroes[1:3] = ['doctor strange']\n",
    "print(heroes)\n",
    "### 💡 Hint: Use slicing assignment.\n",
    "\n",
    "\n",
    "### Sort the list in alphabetical order.\n",
    "heroes.sort()\n",
    "print(heroes)\n",
    "### 💡 Hint: Use sort() method."
   ]
  },
  {
   "cell_type": "code",
   "execution_count": 124,
   "id": "4cafce4f-05ee-4e48-83c3-9d09a4b73930",
   "metadata": {},
   "outputs": [
    {
     "name": "stdout",
     "output_type": "stream",
     "text": [
      "150\n",
      "7150\n",
      "False\n",
      "[2200, 2350, 2600, 2130, 2190, 1980]\n",
      "[2200, 2350, 2600, 1930, 2190, 1980]\n"
     ]
    }
   ],
   "source": [
    "### Question 2: Monthly Expense Analysis\n",
    "### Monthly expenses:\n",
    "### January: 2200\n",
    "### February: 2350\n",
    "### March: 2600\n",
    "### April: 2130\n",
    "### May: 2190\n",
    "### Tasks:\n",
    "\n",
    "\n",
    "### Store these values in a list called expenses.\n",
    "expense = [2200, 2350, 2600, 2130, 2190]\n",
    "### 💡 Hint: Keep them in the same order as months.\n",
    "\n",
    "\n",
    "### How much more did you spend in February than January?\n",
    "print(abs(expense[0] - expense[1]))\n",
    "### 💡 Hint: Subtract January from February.\n",
    "\n",
    "\n",
    "###What is the total of the first three months?\n",
    "first_3_months = expense[0:3]\n",
    "print(sum(first_3_months))\n",
    "### 💡 Hint: Use slicing and sum() function.\n",
    "\n",
    "\n",
    "### Did you spend exactly 2000 in any month?\n",
    "print(2000 in expense)\n",
    "### 💡 Hint: Use in keyword to check presence.\n",
    "\n",
    "\n",
    "### Add June's expense of 1980 to the list.\n",
    "expense.append(1980)\n",
    "print(expense)\n",
    "### 💡 Hint: Use append() method.\n",
    "\n",
    "\n",
    "### You got a $200 refund in April. Update April’s amount.\n",
    "updated_april = expense[3] - 200\n",
    "expense[3] = updated_april\n",
    "print(expense)\n",
    "### 💡 Hint: Use index of April and subtract 200.\n"
   ]
  },
  {
   "cell_type": "code",
   "execution_count": 172,
   "id": "782bba91-153e-41aa-98e0-a2e5c471b877",
   "metadata": {},
   "outputs": [
    {
     "name": "stdout",
     "output_type": "stream",
     "text": [
      "[10, 20, [300, 400, [5000, 6000, 7000], 500], 30, 40]\n",
      "20\n"
     ]
    }
   ],
   "source": [
    "### Question 3: Nested List\n",
    "### a. Insert 7000 after 6000 in this list:\n",
    "list1 = [10, 20, [300, 400, [5000, 6000], 500], 30, 40]\n",
    "l2 = list1[2][2]\n",
    "l2.append(7000)\n",
    "print(list1)\n",
    "### 💡 Hint: Access the innermost list using indexes and use insert().\n",
    "\n",
    "\n",
    "### b. Add the list [\"h\", \"i\", \"j\"] to the innermost list. \n",
    "l2.extend(['h','i','j'])\n",
    "list1\n",
    "### Expected Output:\n",
    "### [10, 20, [300, 400, [5000, 6000, 7000, 'h', 'i', 'j'], 500], 30, 40]\n",
    "### 💡 Hint: Use extend() on the innermost list.\n",
    "\n",
    "### c. Given this tuple:\n",
    "tuple1 = (\"Orange\", [10, 20, 30], (5, 15, 25))\n",
    "print(tuple1[1][1])\n",
    "### Access and print the value 20.\n",
    "###  💡 Hint: Use indexing like tuple1[1][1].\n"
   ]
  },
  {
   "cell_type": "code",
   "execution_count": 9,
   "id": "974eff5e-d33f-48ec-9d65-bfab2cc0132f",
   "metadata": {},
   "outputs": [
    {
     "data": {
      "text/plain": [
       "'\\nlists are mutable where as tuples are immutable.\\nlists are ordered but this can e changed, where as tuples are unordered permanently.\\nlist has a very vast methods that can be used to implement on them, where as tuples have a very fewer methods.\\nboth allows duplicates.\\n'"
      ]
     },
     "execution_count": 9,
     "metadata": {},
     "output_type": "execute_result"
    }
   ],
   "source": [
    "### Question 4: Difference Between List and Tuple\n",
    "'''\n",
    "The major difference between a list data type and a list data type in python is that their immutability nature where a list is mutable type means we can \n",
    "implements methods like append(), extend() to manipulate them and use slicing to access them and even change them, but where in the case of tuple we \n",
    "cannot implement these methods are not even exists in them so these are immutable\n",
    "'''\n",
    "### Write the difference between list and tuple in Python.\n",
    "'''\n",
    "lists are mutable where as tuples are immutable.\n",
    "lists are ordered but this can e changed, where as tuples are unordered permanently.\n",
    "list has a very vast methods that can be used to implement on them, where as tuples have a very fewer methods.\n",
    "both allows duplicates.\n",
    "'''\n",
    "### Include the following:\n",
    "### An example of each\n",
    "\n",
    "list1 = [1,2,3,4,5,6,7]\n",
    "list1[4] = 10 ## Lists are mutable as a result we are acccesing the element at index 4 and changing it to 10 from 5.\n",
    "list1\n",
    "\n",
    "\n",
    "tuple1 = (1,2,3,4,5,6,7)\n",
    "tuple1[4] = 10 ## here too we are trying to did what we did to the list to tuple too but it throws error 'tuple' obj doesn't support item assignment.\n",
    "tuple1\n",
    "\n",
    "### Key differences: mutability, performance, etc.\n",
    "\n",
    "\n",
    "### Why we use tuples when we have lists\n",
    "## Yes, we use tuples even with the existence of lists because of their immutable nature with respect to orderedness.\n",
    "## The tuples are having a precedence in completion of an execution with nearly 40% efficency.\n",
    "\n",
    "###  💡 Hint: Lists are mutable (can change), tuples are immutable (fixed)."
   ]
  },
  {
   "cell_type": "code",
   "execution_count": 59,
   "id": "07174cef-2371-4a29-b46e-6780bb98439c",
   "metadata": {},
   "outputs": [
    {
     "name": "stdin",
     "output_type": "stream",
     "text": [
      " 8\n"
     ]
    },
    {
     "name": "stdout",
     "output_type": "stream",
     "text": [
      "6\n"
     ]
    }
   ],
   "source": [
    "### Question 5: Find the Missing Number in a Sequence\n",
    "### You are given a list of numbers from 1 to n with one number missing.\n",
    "### Example:\n",
    "### Input: [3, 7, 1, 2, 8, 4, 5]\n",
    "### Output: 6\n",
    "\n",
    "n = int(input())\n",
    "list1 = [3, 7, 1, 2, 8, 4, 5]\n",
    "\n",
    "list_sum = sum(list1)\n",
    "sum_of_n = n*(n+1) // 2\n",
    "missing_num = sum_of_n - list_sum\n",
    "\n",
    "print(missing_num)\n",
    "\n",
    "### Write a program to find the missing number.\n",
    "### 💡 Hint: Use formula for sum of 1 to n: n*(n+1)//2 and subtract actual sum.\n"
   ]
  },
  {
   "cell_type": "code",
   "execution_count": 7,
   "id": "2e433509-66f4-421c-a5b8-d20cbe28c566",
   "metadata": {},
   "outputs": [
    {
     "name": "stdout",
     "output_type": "stream",
     "text": [
      "False\n"
     ]
    }
   ],
   "source": [
    "# Question 6: Check If a Tuple is Sorted in Increasing Order\n",
    "# Given a tuple of numbers, check if it's strictly increasing.\n",
    "# Examples:\n",
    "# Input: (1, 2, 3, 4, 5) → Output: True\n",
    "# Input: (5, 3, 2, 8, 6) → Output: False\n",
    "# Input: (7, 8, 8, 9) → Output: False (duplicates not allowed)\n",
    "# 💡 Hint: Use a loop to compare each item with the next.\n",
    "\n",
    "# t1 = (1, 2, 3, 4, 5)\n",
    "# t1 = (5, 3, 2, 8, 6)\n",
    "t1 = (7, 8, 8, 9)\n",
    "\n",
    "strictly_increasing = True\n",
    "\n",
    "for i in range(len(t1)-1):\n",
    "    if t1[i] >= t1[i+1]:\n",
    "        strictly_increasing = False\n",
    "        break\n",
    "\n",
    "print(strictly_increasing)"
   ]
  },
  {
   "cell_type": "code",
   "execution_count": 11,
   "id": "82cbd8d5-1726-4c26-a721-3598706b5d79",
   "metadata": {},
   "outputs": [
    {
     "name": "stdout",
     "output_type": "stream",
     "text": [
      "False\n"
     ]
    }
   ],
   "source": [
    "# Question 7: Find Pair With Target Sum\n",
    "# Given a list of integers and a number n, check if any two different numbers in the list add up to n.\n",
    "# Examples:\n",
    "# Input: nums = [1, 2, 3, 4, 5], n = 9 → Output: True\n",
    "\n",
    "# Input: nums = [1, 2, 3, 4, 5], n = 10 → Output: False\n",
    "\n",
    "'''\n",
    "Loop through each number in the list (nums):\n",
    "For each number at position i:\n",
    "Loop through the remaining numbers (from i+1 to the end):\n",
    "If nums[i] + nums[j] == n:\n",
    "Return True (since we found a valid pair).\n",
    "If no pair is found after all checks, Return False.\n",
    "'''\n",
    "\n",
    "# nums = [1,2,3,4,5]\n",
    "nums = [1, 2, 3, 4, 5]\n",
    "n = 10\n",
    "\n",
    "for i in range(len(nums)-1):\n",
    "    if nums[i] + nums[i+1] == n:\n",
    "        print('True')\n",
    "        break\n",
    "print('False')"
   ]
  },
  {
   "cell_type": "code",
   "execution_count": 51,
   "id": "8331ae1a-96f9-475e-a3f1-03bce190a546",
   "metadata": {},
   "outputs": [
    {
     "name": "stdout",
     "output_type": "stream",
     "text": [
      "apple grape\n",
      "['cherry', 'date', 'elderberry']\n",
      "['banana', 'date', 'fig']\n",
      "['grape', 'fig', 'elderberry', 'date', 'cherry', 'banana', 'apple']\n"
     ]
    }
   ],
   "source": [
    "# Question 8: List Indexing and Slicing Practice\n",
    "# You are given a list:\n",
    "# fruits = ['apple', 'banana', 'cherry', 'date', 'elderberry', 'fig', 'grape']\n",
    "\n",
    "# Perform the following tasks:\n",
    "# Print the first and last fruit from the list.\n",
    "#  💡 Hint: Use index 0 and -1.\n",
    "\n",
    "# Print the fruits from index 2 to 5 (inclusive of index 2, exclusive of index 5).\n",
    "#  💡 Hint: Use slicing like list[start:end].\n",
    "\n",
    "# Print every second fruit from the list.\n",
    "#  💡 Hint: Use slicing with step size.\n",
    "\n",
    "# Reverse the list using slicing.\n",
    "#  💡 Hint: Use slicing with a negative step.\n",
    "\n",
    "fruits = ['apple', 'banana', 'cherry', 'date', 'elderberry', 'fig', 'grape']\n",
    "\n",
    "print(fruits[0],fruits[-1])\n",
    "print(fruits[2:5])\n",
    "print(fruits[1::2])\n",
    "print(fruits[::-1])"
   ]
  },
  {
   "cell_type": "code",
   "execution_count": 37,
   "id": "2f7138eb-7fc3-4c24-84ed-5b2afb7bd1f7",
   "metadata": {},
   "outputs": [
    {
     "name": "stdout",
     "output_type": "stream",
     "text": [
      "3\n",
      "['red', 'green', 'yellow', 'purple']\n"
     ]
    }
   ],
   "source": [
    "# Question 9: Count and Remove Elements in a List\n",
    "# You are given a list:\n",
    "# colors = ['red', 'blue', 'green', 'blue', 'yellow', 'blue', 'purple']\n",
    "\n",
    "# Tasks:\n",
    "# Count how many times 'blue' appears.\n",
    "#  💡 Hint: Use count() method.\n",
    "\n",
    "# Remove the first occurrence of 'blue'.\n",
    "#  💡 Hint: Use remove() method.\n",
    "\n",
    "# Remove all occurrences of 'blue' using a loop.\n",
    "#  💡 Hint: Use a while loop with in and remove().\n",
    "\n",
    "colors = ['red', 'blue', 'green', 'blue', 'yellow', 'blue', 'purple']\n",
    "new_list_colours = []\n",
    "\n",
    "print(colors.count('blue'))\n",
    "colors.remove('blue')\n",
    "colors\n",
    "\n",
    "for each_colour in colors:\n",
    "    if each_colour != 'blue':\n",
    "        new_list_colours.append(each_colour)\n",
    "print(new_list_colours)"
   ]
  },
  {
   "cell_type": "code",
   "execution_count": 25,
   "id": "a2b0c458-090e-4f43-a764-3f093409ff9d",
   "metadata": {},
   "outputs": [
    {
     "name": "stdout",
     "output_type": "stream",
     "text": [
      "[5, 100, 17, 400, 25, 900]\n"
     ]
    }
   ],
   "source": [
    "# Question : 10 Replace Elements in a List\n",
    "# You are given a list of numbers:\n",
    "# numbers = [5, 10, 15, 20, 25, 30]\n",
    "\n",
    "# Tasks:\n",
    "# Replace the value 15 with 17.\n",
    "#  💡 Hint: Find its index and use assignment.\n",
    "\n",
    "# Replace all even numbers with their squares.\n",
    "#  💡 Hint: Use a loop and check if num % 2 == 0.\n",
    "\n",
    "\n",
    "numbers = [5, 10, 15, 20, 25, 30]\n",
    "new_list = []\n",
    "\n",
    "numbers[2] = 17 ## Replaced the value 15 with 17\n",
    "\n",
    "for each in numbers:\n",
    "    if each % 2 == 0:\n",
    "        new_list.append(each ** 2)\n",
    "    else:\n",
    "        new_list.append(each)\n",
    "print(new_list)"
   ]
  },
  {
   "cell_type": "code",
   "execution_count": 19,
   "id": "77a17d80-e217-435c-af7a-c9a09320bda1",
   "metadata": {},
   "outputs": [
    {
     "name": "stdout",
     "output_type": "stream",
     "text": [
      "Sorted list : [93, 92, 91, 88, 85, 79]\n",
      "Max element is: 93\n",
      "Min element is: 79\n",
      "Length of the list is : 6\n",
      "Sum of marks in the list is : 528\n"
     ]
    }
   ],
   "source": [
    "# Question 11: List Sorting and Min/Max Values\n",
    "# You are given a list:\n",
    "# marks = [88, 92, 79, 93, 85, 91]\n",
    "\n",
    "# Tasks:\n",
    "# Sort the list in descending order.\n",
    "#  💡 Hint: Use sort(reverse=True).\n",
    "\n",
    "# Find the highest and lowest marks.\n",
    "#  💡 Hint: Use max() and min().\n",
    "\n",
    "# Calculate the average of all marks.\n",
    "#  💡 Hint: Use sum() and len().\n",
    "\n",
    "marks_list = [88, 92, 79, 93, 85, 91]\n",
    "\n",
    "marks_list.sort(reverse = True)\n",
    "print('Sorted list :',marks_list)\n",
    "\n",
    "print('Max element is:',max(marks_list))\n",
    "print('Min element is:',min(marks_list))\n",
    "print('Length of the list is :',len(marks_list))\n",
    "print('Sum of marks in the list is :',sum(marks_list))"
   ]
  },
  {
   "cell_type": "code",
   "execution_count": 15,
   "id": "4fe5d3b6-190f-469b-9231-21f9ba6950aa",
   "metadata": {},
   "outputs": [
    {
     "name": "stdout",
     "output_type": "stream",
     "text": [
      "[1, 2, 3, 4, 5, 6]\n",
      "{3, 4}\n",
      "{1, 2}\n"
     ]
    }
   ],
   "source": [
    "# Question 12: Combine and Filter Lists\n",
    "# You are given two lists:\n",
    "# list1 = [1, 2, 3, 4]\n",
    "# list2 = [3, 4, 5, 6]\n",
    "# Tasks:\n",
    "\n",
    "\n",
    "# Combine both lists into a new list (no duplicates).\n",
    "l1 = [1,2,3,4]\n",
    "l2 = [3,4,5,6]\n",
    "l3 = []\n",
    "\n",
    "for i in l1+l2:\n",
    "    if i not in l3:\n",
    "        l3.append(i)\n",
    "print(l3)\n",
    "#  💡 Hint: Use a loop with condition.\n",
    "\n",
    "\n",
    "\n",
    "# Print only the common elements between both lists.\n",
    "s1 = set(l1)\n",
    "s2 = set(l2)\n",
    "print( s1.intersection(s2))\n",
    "#  💡 Hint: Use list comprehension or sets.\n",
    "\n",
    "\n",
    "\n",
    "# Print only the elements that are in list1 but not in list2.\n",
    "print( s1.difference(s2))\n",
    "#  💡 Hint: Use for loop and if condition."
   ]
  },
  {
   "cell_type": "code",
   "execution_count": 39,
   "id": "984dfc3e-e600-46ef-b9e1-6c537ff39d1a",
   "metadata": {},
   "outputs": [
    {
     "data": {
      "text/plain": [
       "[1, 2, 3, 4, 5, 6]"
      ]
     },
     "execution_count": 39,
     "metadata": {},
     "output_type": "execute_result"
    }
   ],
   "source": [
    "l1 = [1,2,3,4]\n",
    "l2 = [3,4,5,6]\n",
    "l3 = []\n",
    "\n",
    "for i in l1 + l2:\n",
    "    if i not in l3:\n",
    "        l3.append(i)\n",
    "\n",
    "l3"
   ]
  },
  {
   "cell_type": "code",
   "execution_count": null,
   "id": "e3e1c5c6-4420-443c-8ae9-0b2a65893f49",
   "metadata": {},
   "outputs": [],
   "source": []
  }
 ],
 "metadata": {
  "kernelspec": {
   "display_name": "Python [conda env:base] *",
   "language": "python",
   "name": "conda-base-py"
  },
  "language_info": {
   "codemirror_mode": {
    "name": "ipython",
    "version": 3
   },
   "file_extension": ".py",
   "mimetype": "text/x-python",
   "name": "python",
   "nbconvert_exporter": "python",
   "pygments_lexer": "ipython3",
   "version": "3.12.7"
  }
 },
 "nbformat": 4,
 "nbformat_minor": 5
}
