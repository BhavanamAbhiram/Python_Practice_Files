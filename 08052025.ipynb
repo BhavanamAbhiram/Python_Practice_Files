{
 "cells": [
  {
   "cell_type": "markdown",
   "id": "e0dabaa7-e968-4d44-b8a3-f96ec268da35",
   "metadata": {},
   "source": [
    "# Task 4 - Lists"
   ]
  },
  {
   "cell_type": "markdown",
   "id": "d6b9f754-94b7-4ca3-a62b-d03d5bac3809",
   "metadata": {},
   "source": [
    "### 1. Understanding Lists\n",
    "- Define lists, their properties, and explain how they differ from other data types.\n",
    "- List the common list methods and provide an example for each."
   ]
  },
  {
   "cell_type": "raw",
   "id": "49a47eee-e1b3-4958-bdb3-df9d2ec911ea",
   "metadata": {},
   "source": [
    "-- Lists is type of data type in python where this falls in advanced category in python data types.\n",
    "\n",
    "-- Lists are Immutable in nature, means we can access elements in a list using indexing and change the data in a list using the list slicing.\n",
    "-- Lists accepts multiple values of different datatypes like integers, dictionaries, float, string, complex etc.. all at once.\n",
    "-- Lists are by default ordered and can't be changed in order explicitly, When we say that lists are ordered, it means that the items have a defined order, and that order will not change.\n",
    "-- Lists are enabled with nesting nature means a single list can hold multiple lists in it and all properties of standard lists are followed by nested lists too.\n",
    "-- Lists allows duplicates and as lists are indexed so it can have elements with same values.\n",
    "\n",
    "-- Lists are different from strings as it can have strings, individual characters and are immutable despite strings.\n",
    "\n",
    "\n",
    "-- List Methods\n",
    "\n",
    "example_list = [18,17,48,43,333,37,29]\n",
    "\n",
    "1) append() "
   ]
  },
  {
   "cell_type": "code",
   "execution_count": 5,
   "id": "4093bacf-6bc9-4f4b-9a66-fd94b2a3a142",
   "metadata": {},
   "outputs": [
    {
     "data": {
      "text/plain": [
       "[18, 17, 48, 43, 333, 37, 29, 12]"
      ]
     },
     "execution_count": 5,
     "metadata": {},
     "output_type": "execute_result"
    }
   ],
   "source": [
    "example_list = [18,17,48,43,333,37,29]\n",
    "example_list.append(12) ## appends the element at the end of the list.\n",
    "example_list"
   ]
  },
  {
   "cell_type": "code",
   "execution_count": 7,
   "id": "98454945-214f-44f3-9dad-66886e3d5b80",
   "metadata": {},
   "outputs": [
    {
     "data": {
      "text/plain": [
       "[18, 17, 48, 43, 333, 37, 29, 12, 2, 31, 3, 4, 2, 24, 3134, 231]"
      ]
     },
     "execution_count": 7,
     "metadata": {},
     "output_type": "execute_result"
    }
   ],
   "source": [
    "# 2) extend() \n",
    "\n",
    "example_list.extend([2,31,3,4,2,24,3134,231]) ## takes a list as an argument and adds them as elements not as a single list despite append().\n",
    "example_list"
   ]
  },
  {
   "cell_type": "code",
   "execution_count": 41,
   "id": "525057aa-0bd6-4593-ae56-26f0950607e2",
   "metadata": {},
   "outputs": [
    {
     "data": {
      "text/plain": [
       "[18, 17, 48, 43, 333, 29, 12, 2, 31, 3, 4, 2, 24, 3134, 231]"
      ]
     },
     "execution_count": 41,
     "metadata": {},
     "output_type": "execute_result"
    }
   ],
   "source": [
    "## 3) pop()\n",
    "\n",
    "example_list.pop(5) ## removes the element present at index 5\n",
    "example_list"
   ]
  },
  {
   "cell_type": "code",
   "execution_count": 9,
   "id": "ff744d30-7320-49c6-baca-4ff7be60e93d",
   "metadata": {},
   "outputs": [
    {
     "data": {
      "text/plain": [
       "[18, 17, 48, 'Abhiram', 43, 333, 37, 29, 12, 2, 31, 3, 4, 2, 24, 3134, 231]"
      ]
     },
     "execution_count": 9,
     "metadata": {},
     "output_type": "execute_result"
    }
   ],
   "source": [
    "# 4) insert()\n",
    "\n",
    "example_list.insert(3,'Abhiram') ## inserts a new element at the index '3' as defined\n",
    "example_list"
   ]
  },
  {
   "cell_type": "code",
   "execution_count": 11,
   "id": "a227838f-d81c-4d59-bf14-76aacfe64554",
   "metadata": {},
   "outputs": [
    {
     "data": {
      "text/plain": [
       "[18, 17, 48, 43, 333, 37, 29, 12, 2, 31, 3, 4, 2, 24, 3134]"
      ]
     },
     "execution_count": 11,
     "metadata": {},
     "output_type": "execute_result"
    }
   ],
   "source": [
    "# 5) remove()\n",
    "\n",
    "example_list.remove('Abhiram') ## Removes the element 'Abhiram' from the list\n",
    "example_list.remove(231) ## Removes the element 231 and this not the index in the list\n",
    "example_list"
   ]
  },
  {
   "cell_type": "code",
   "execution_count": 13,
   "id": "e08a9861-dca1-47a3-b137-7e3bcac2a91e",
   "metadata": {},
   "outputs": [
    {
     "data": {
      "text/plain": [
       "[18, 17, 48, 43, 333, 37, 29, 12, 2, 31, 3, 4, 2, 24, 3134]"
      ]
     },
     "execution_count": 13,
     "metadata": {},
     "output_type": "execute_result"
    }
   ],
   "source": [
    "# 6) copy()\n",
    "\n",
    "new_list = example_list.copy()\n",
    "new_list"
   ]
  },
  {
   "cell_type": "code",
   "execution_count": 15,
   "id": "3e8d33f6-7285-405b-837d-d3f826b36399",
   "metadata": {},
   "outputs": [
    {
     "data": {
      "text/plain": [
       "[]"
      ]
     },
     "execution_count": 15,
     "metadata": {},
     "output_type": "execute_result"
    }
   ],
   "source": [
    "# 7) clear()\n",
    "\n",
    "new_list.clear() ## This list clears all the elements that are present in the list and returns the empty list\n",
    "new_list"
   ]
  },
  {
   "cell_type": "markdown",
   "id": "da7e0539-5d13-4edc-8b77-714697a3e7bd",
   "metadata": {},
   "source": [
    "### 2. Creating and Modifying Lists\n",
    "- Create an empty list called numbers and perform the following operations:\n",
    "- Append the numbers 1, 2, and 3 to the list.\n",
    "- Modify the element at index 1 to be 4.\n",
    "- Print the updated list."
   ]
  },
  {
   "cell_type": "code",
   "execution_count": 19,
   "id": "33933af7-f4ff-45f9-b1e2-3b9c84bb3e3f",
   "metadata": {},
   "outputs": [
    {
     "name": "stdout",
     "output_type": "stream",
     "text": [
      "[1, 2, 3]\n"
     ]
    },
    {
     "data": {
      "text/plain": [
       "[1, 4, 2, 3]"
      ]
     },
     "execution_count": 19,
     "metadata": {},
     "output_type": "execute_result"
    }
   ],
   "source": [
    "empty_list = []\n",
    "empty_list.append(1) # appends 1 to empty list\n",
    "empty_list.append(2) # appends 2 at end of the list\n",
    "empty_list.append(3) # appends 3 at end of the list\n",
    "print(empty_list) \n",
    "empty_list.insert(1,4) # Inserts the element 4 at index 1\n",
    "empty_list"
   ]
  },
  {
   "cell_type": "markdown",
   "id": "a5bb2d95-6ad2-4c4e-a7e2-f7699a10c033",
   "metadata": {},
   "source": [
    "### 3. Slicing Lists\n",
    "- Create a list called fruits with elements: 'apple', 'banana', 'orange', 'mango', 'kiwi'.\n",
    "- Use slicing to create new lists:\n",
    "- Citrus fruits: Extract 'orange' and 'mango'.\n",
    "- Tropical fruits: Extract 'banana' and 'kiwi'.\n",
    "- Concatenate citrus and tropical lists to form a new list called combined.\n",
    "- Print the combined list."
   ]
  },
  {
   "cell_type": "code",
   "execution_count": 31,
   "id": "19a02981-8a39-43cd-8acb-dd5d9d8b9124",
   "metadata": {},
   "outputs": [
    {
     "name": "stdout",
     "output_type": "stream",
     "text": [
      "['banana', 'kiwi']\n"
     ]
    },
    {
     "data": {
      "text/plain": [
       "['orange', 'mango', 'banana', 'kiwi']"
      ]
     },
     "execution_count": 31,
     "metadata": {},
     "output_type": "execute_result"
    }
   ],
   "source": [
    "fruits = ['apple', 'banana', 'orange', 'mango', 'kiwi']\n",
    "citrus_fruits = fruits[2:4]\n",
    "tropical_fruits = fruits[1::3]\n",
    "combined_list = citrus_fruits + tropical_fruits\n",
    "combined_list"
   ]
  },
  {
   "cell_type": "markdown",
   "id": "a5a52d5a-bd06-491b-ae44-b0ce9e421094",
   "metadata": {},
   "source": [
    "### 4. Counting and Removing Elements\n",
    "- Create a list called colors with repeated elements: 'red', 'blue', 'red', 'green', 'red'.\n",
    "- Count and print the number of times 'red' appears in the list.\n",
    "- Remove all occurrences of 'red' from the list.\n",
    "- Print the updated list."
   ]
  },
  {
   "cell_type": "code",
   "execution_count": 40,
   "id": "b9cbfda1-a8e2-48da-ae92-f041900fa02f",
   "metadata": {},
   "outputs": [
    {
     "name": "stdout",
     "output_type": "stream",
     "text": [
      "3\n"
     ]
    },
    {
     "data": {
      "text/plain": [
       "['blue', 'green']"
      ]
     },
     "execution_count": 40,
     "metadata": {},
     "output_type": "execute_result"
    }
   ],
   "source": [
    "colours = [ 'red', 'blue', 'red', 'green', 'red']\n",
    "print(colours.count('red'))\n",
    "colours.remove('red') \n",
    "colours.remove('red')\n",
    "colours.remove('red')\n",
    "colours"
   ]
  },
  {
   "cell_type": "markdown",
   "id": "081b0608-0c06-4616-bd42-3a006ed2a57f",
   "metadata": {},
   "source": [
    "### 5. Updating and Managing a Grocery List\n",
    "- Create a list called groceries with the initial items: 'bread', 'milk', 'eggs', 'butter'.\n",
    "- Perform the following operations:\n",
    "- Add 'cheese' to the end of the list.\n",
    "- Remove 'milk' from the list.\n",
    "- Insert 'yogurt' at index 1.\n",
    "- Print the final updated grocery list."
   ]
  },
  {
   "cell_type": "code",
   "execution_count": 50,
   "id": "570985cb-5e69-4cab-901f-4c0df46df179",
   "metadata": {},
   "outputs": [
    {
     "name": "stdout",
     "output_type": "stream",
     "text": [
      "['bread', 'milk', 'eggs', 'butter', 'cheese']\n",
      "['bread', 'eggs', 'butter', 'cheese']\n",
      "['bread', 'yogurt', 'eggs', 'butter', 'cheese']\n"
     ]
    }
   ],
   "source": [
    "groceries = ['bread', 'milk', 'eggs', 'butter']\n",
    "\n",
    "append_cheese = groceries.append('cheese')\n",
    "print(groceries)\n",
    "\n",
    "remove_milk = groceries.remove('milk')\n",
    "print(groceries)\n",
    "\n",
    "insert_yogurt = groceries.insert(1,'yogurt')\n",
    "\n",
    "final_updated_grocery_list = groceries\n",
    "print(final_updated_grocery_list)"
   ]
  },
  {
   "cell_type": "code",
   "execution_count": null,
   "id": "bf225780-2c4b-4ac2-9ea4-53ebbcaf3e82",
   "metadata": {},
   "outputs": [],
   "source": []
  }
 ],
 "metadata": {
  "kernelspec": {
   "display_name": "Python [conda env:base] *",
   "language": "python",
   "name": "conda-base-py"
  },
  "language_info": {
   "codemirror_mode": {
    "name": "ipython",
    "version": 3
   },
   "file_extension": ".py",
   "mimetype": "text/x-python",
   "name": "python",
   "nbconvert_exporter": "python",
   "pygments_lexer": "ipython3",
   "version": "3.12.7"
  }
 },
 "nbformat": 4,
 "nbformat_minor": 5
}
